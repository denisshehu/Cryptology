{
 "cells": [
  {
   "cell_type": "code",
   "source": [
    "import import_ipynb\n",
    "import functions as f"
   ],
   "metadata": {
    "collapsed": false,
    "ExecuteTime": {
     "end_time": "2024-10-24T09:09:01.384324Z",
     "start_time": "2024-10-24T09:09:01.123279Z"
    }
   },
   "outputs": [],
   "execution_count": 1
  },
  {
   "cell_type": "code",
   "source": [
    "P = (1000, 2)\n",
    "P_A = (837670, 538535)\n",
    "p = 1000003"
   ],
   "metadata": {
    "collapsed": false,
    "ExecuteTime": {
     "end_time": "2024-10-24T09:09:01.397346Z",
     "start_time": "2024-10-24T09:09:01.391829Z"
    }
   },
   "outputs": [],
   "execution_count": 2
  },
  {
   "cell_type": "code",
   "source": [
    "f.DLP_circle(P, P_A, p)"
   ],
   "metadata": {
    "collapsed": false,
    "ExecuteTime": {
     "end_time": "2024-10-24T09:09:01.736557Z",
     "start_time": "2024-10-24T09:09:01.595090Z"
    }
   },
   "outputs": [
    {
     "data": {
      "text/plain": [
       "271828"
      ]
     },
     "execution_count": 3,
     "metadata": {},
     "output_type": "execute_result"
    }
   ],
   "execution_count": 3
  }
 ],
 "metadata": {
  "kernelspec": {
   "display_name": "Python 3",
   "language": "python",
   "name": "python3"
  },
  "language_info": {
   "codemirror_mode": {
    "name": "ipython",
    "version": 2
   },
   "file_extension": ".py",
   "mimetype": "text/x-python",
   "name": "python",
   "nbconvert_exporter": "python",
   "pygments_lexer": "ipython2",
   "version": "2.7.6"
  }
 },
 "nbformat": 4,
 "nbformat_minor": 0
}
