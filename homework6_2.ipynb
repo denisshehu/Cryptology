{
 "cells": [
  {
   "cell_type": "code",
   "execution_count": 1,
   "outputs": [
    {
     "name": "stdout",
     "output_type": "stream",
     "text": [
      "importing Jupyter notebook from homework3_a.ipynb\n",
      "0P = None\n",
      "1P = (19, 42)\n",
      "2P = (36, 13)\n",
      "3P = (29, 13)\n",
      "4P = (9, 15)\n",
      "5P = (21, 30)\n",
      "a_0 = 3\n",
      "\n",
      "P_A - 0mP = (28, 15)\n",
      "P_A - 1mP = (29, 13)\n",
      "a_1 = 1\n",
      "\n",
      "a = 9\n",
      "1P = (19, 42)\n",
      "2P = (36, 13)\n",
      "3P = (29, 13)\n",
      "4P = (9, 15)\n",
      "5P = (21, 30)\n",
      "6P = (39, 35)\n",
      "7P = (2, 23)\n",
      "8P = (17, 26)\n",
      "9P = (28, 15)\n",
      "\n",
      "P_A = (28, 15)\n"
     ]
    }
   ],
   "source": [
    "import import_ipynb\n",
    "import homework3_a as h"
   ],
   "metadata": {
    "collapsed": false
   }
  },
  {
   "cell_type": "code",
   "execution_count": 2,
   "outputs": [],
   "source": [
    "def RSA_CRT_KeyGen(p, q, e):\n",
    "\n",
    "    n = p * q\n",
    "    phi_n = (p - 1) * (q - 1)\n",
    "    d = h.inverse(e, phi_n)\n",
    "    d_p = d % (p - 1)\n",
    "    d_q = d % (q - 1)\n",
    "    u = h.inverse(p, q)\n",
    "\n",
    "    print('n = ' + str(n))\n",
    "    print('phi_n = ' + str(phi_n))\n",
    "    print('p = ' + str(p))\n",
    "    print('q = ' + str(q))\n",
    "    print('e = ' + str(e))\n",
    "    print('d = ' + str(d))\n",
    "    print('d_p = ' + str(d_p))\n",
    "    print('d_q = ' + str(d_q))\n",
    "    print('u = ' + str(u))\n",
    "\n",
    "    return n, p, q, d_p, d_q, u"
   ],
   "metadata": {
    "collapsed": false
   }
  },
  {
   "cell_type": "code",
   "execution_count": 3,
   "outputs": [],
   "source": [
    "def RSA_CRT_Enc(m, e, n):\n",
    "    return (m ** e) % n"
   ],
   "metadata": {
    "collapsed": false
   }
  },
  {
   "cell_type": "code",
   "execution_count": 4,
   "outputs": [],
   "source": [
    "def RSA_CRT_Dec(c, p, q, d_p, d_q, u):\n",
    "\n",
    "    c_p = c % p\n",
    "    c_q = c % q\n",
    "    m_p = (c_p ** d_p) % p\n",
    "    m_q = (c_q ** d_q) % q\n",
    "    m = (m_p + p * u * (m_q - m_p)) % (p * q)\n",
    "\n",
    "    print('c_p = ' + str(c_p))\n",
    "    print('c_q = ' + str(c_q))\n",
    "    print('m_p = ' + str(m_p))\n",
    "    print('m_q = ' + str(m_q))\n",
    "    print('m = ' + str(m))\n",
    "\n",
    "    return m"
   ],
   "metadata": {
    "collapsed": false
   }
  },
  {
   "cell_type": "code",
   "execution_count": 5,
   "outputs": [],
   "source": [
    "p = 541\n",
    "q = 733\n",
    "e = 17"
   ],
   "metadata": {
    "collapsed": false
   }
  },
  {
   "cell_type": "code",
   "execution_count": 6,
   "outputs": [],
   "source": [
    "c = 234040"
   ],
   "metadata": {
    "collapsed": false
   }
  },
  {
   "cell_type": "code",
   "execution_count": 7,
   "outputs": [
    {
     "name": "stdout",
     "output_type": "stream",
     "text": [
      "n = 396553\n",
      "phi_n = 395280\n",
      "p = 541\n",
      "q = 733\n",
      "e = 17\n",
      "d = 302273\n",
      "d_p = 413\n",
      "d_q = 689\n",
      "u = 691\n"
     ]
    }
   ],
   "source": [
    "n, p, q, d_p, d_q, u = RSA_CRT_KeyGen(p, q, e)"
   ],
   "metadata": {
    "collapsed": false
   }
  },
  {
   "cell_type": "code",
   "execution_count": 8,
   "outputs": [
    {
     "name": "stdout",
     "output_type": "stream",
     "text": [
      "c_p = 328\n",
      "c_q = 213\n",
      "m_p = 37\n",
      "m_q = 162\n",
      "m = 332211\n"
     ]
    }
   ],
   "source": [
    "m = RSA_CRT_Dec(c, p, q, d_p, d_q, u)"
   ],
   "metadata": {
    "collapsed": false
   }
  },
  {
   "cell_type": "code",
   "execution_count": 9,
   "outputs": [
    {
     "data": {
      "text/plain": "234040"
     },
     "execution_count": 9,
     "metadata": {},
     "output_type": "execute_result"
    }
   ],
   "source": [
    "c = RSA_CRT_Enc(m, e, n)\n",
    "c"
   ],
   "metadata": {
    "collapsed": false
   }
  }
 ],
 "metadata": {
  "kernelspec": {
   "display_name": "Python 3",
   "language": "python",
   "name": "python3"
  },
  "language_info": {
   "codemirror_mode": {
    "name": "ipython",
    "version": 2
   },
   "file_extension": ".py",
   "mimetype": "text/x-python",
   "name": "python",
   "nbconvert_exporter": "python",
   "pygments_lexer": "ipython2",
   "version": "2.7.6"
  }
 },
 "nbformat": 4,
 "nbformat_minor": 0
}
