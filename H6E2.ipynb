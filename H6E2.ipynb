{
 "cells": [
  {
   "cell_type": "code",
   "source": [
    "import import_ipynb\n",
    "import functions as f"
   ],
   "metadata": {
    "collapsed": false,
    "ExecuteTime": {
     "end_time": "2024-10-21T13:12:48.335073Z",
     "start_time": "2024-10-21T13:12:48.068888Z"
    }
   },
   "outputs": [],
   "execution_count": 1
  },
  {
   "cell_type": "code",
   "source": [
    "p = 541\n",
    "q = 733\n",
    "e = 17"
   ],
   "metadata": {
    "collapsed": false,
    "ExecuteTime": {
     "end_time": "2024-10-21T13:12:48.346535Z",
     "start_time": "2024-10-21T13:12:48.340883Z"
    }
   },
   "outputs": [],
   "execution_count": 2
  },
  {
   "cell_type": "code",
   "source": [
    "c = 234040"
   ],
   "metadata": {
    "collapsed": false,
    "ExecuteTime": {
     "end_time": "2024-10-21T13:12:48.494648Z",
     "start_time": "2024-10-21T13:12:48.491275Z"
    }
   },
   "outputs": [],
   "execution_count": 3
  },
  {
   "cell_type": "code",
   "source": [
    "n, p, q, d_p, d_q, u = f.RSA_CRT_key_generation(p, q, e, True)"
   ],
   "metadata": {
    "collapsed": false,
    "ExecuteTime": {
     "end_time": "2024-10-21T13:12:48.514523Z",
     "start_time": "2024-10-21T13:12:48.508161Z"
    }
   },
   "outputs": [
    {
     "name": "stdout",
     "output_type": "stream",
     "text": [
      "p = 541\n",
      "q = 733\n",
      "e = 17\n",
      "n = 396553\n",
      "phi_n = 395280\n",
      "d = 302273\n",
      "d_p = 413\n",
      "d_q = 689\n",
      "u = 691\n"
     ]
    }
   ],
   "execution_count": 4
  },
  {
   "cell_type": "code",
   "source": [
    "m = f.RSA_CRT_decryption(c, p, q, d_p, d_q, u, True)"
   ],
   "metadata": {
    "collapsed": false,
    "ExecuteTime": {
     "end_time": "2024-10-21T13:12:48.624887Z",
     "start_time": "2024-10-21T13:12:48.620518Z"
    }
   },
   "outputs": [
    {
     "name": "stdout",
     "output_type": "stream",
     "text": [
      "c_p = 328\n",
      "c_q = 213\n",
      "m_p = 37\n",
      "m_q = 162\n",
      "m = 332211\n"
     ]
    }
   ],
   "execution_count": 5
  },
  {
   "cell_type": "code",
   "source": [
    "f.RSA_CRT_encryption(m, e, n)"
   ],
   "metadata": {
    "collapsed": false,
    "ExecuteTime": {
     "end_time": "2024-10-21T13:12:48.773615Z",
     "start_time": "2024-10-21T13:12:48.765720Z"
    }
   },
   "outputs": [
    {
     "data": {
      "text/plain": [
       "234040"
      ]
     },
     "execution_count": 6,
     "metadata": {},
     "output_type": "execute_result"
    }
   ],
   "execution_count": 6
  }
 ],
 "metadata": {
  "kernelspec": {
   "display_name": "Python 3",
   "language": "python",
   "name": "python3"
  },
  "language_info": {
   "codemirror_mode": {
    "name": "ipython",
    "version": 2
   },
   "file_extension": ".py",
   "mimetype": "text/x-python",
   "name": "python",
   "nbconvert_exporter": "python",
   "pygments_lexer": "ipython2",
   "version": "2.7.6"
  }
 },
 "nbformat": 4,
 "nbformat_minor": 0
}
