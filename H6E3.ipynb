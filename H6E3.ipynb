{
 "cells": [
  {
   "cell_type": "code",
   "source": [
    "import import_ipynb\n",
    "import functions as f"
   ],
   "metadata": {
    "collapsed": false,
    "ExecuteTime": {
     "end_time": "2024-10-21T13:12:56.158754Z",
     "start_time": "2024-10-21T13:12:55.810713Z"
    }
   },
   "outputs": [],
   "execution_count": 1
  },
  {
   "cell_type": "code",
   "source": [
    "n = 396553\n",
    "a = 8\n",
    "s = list(range(1, 13))"
   ],
   "metadata": {
    "collapsed": false,
    "ExecuteTime": {
     "end_time": "2024-10-21T13:12:56.167339Z",
     "start_time": "2024-10-21T13:12:56.163837Z"
    }
   },
   "outputs": [],
   "execution_count": 2
  },
  {
   "cell_type": "code",
   "source": [
    "f.p_1_method(n, a, s, True)"
   ],
   "metadata": {
    "collapsed": false,
    "ExecuteTime": {
     "end_time": "2024-10-21T13:12:56.347819Z",
     "start_time": "2024-10-21T13:12:56.338548Z"
    }
   },
   "outputs": [
    {
     "name": "stdout",
     "output_type": "stream",
     "text": [
      "s = 27720\n",
      "\n",
      "b = 192056\n",
      "d = 541\n",
      "\n"
     ]
    },
    {
     "data": {
      "text/plain": [
       "(541, 733)"
      ]
     },
     "execution_count": 3,
     "metadata": {},
     "output_type": "execute_result"
    }
   ],
   "execution_count": 3
  }
 ],
 "metadata": {
  "kernelspec": {
   "display_name": "Python 3",
   "language": "python",
   "name": "python3"
  },
  "language_info": {
   "codemirror_mode": {
    "name": "ipython",
    "version": 2
   },
   "file_extension": ".py",
   "mimetype": "text/x-python",
   "name": "python",
   "nbconvert_exporter": "python",
   "pygments_lexer": "ipython2",
   "version": "2.7.6"
  }
 },
 "nbformat": 4,
 "nbformat_minor": 0
}
