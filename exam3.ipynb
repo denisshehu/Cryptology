{
 "cells": [
  {
   "cell_type": "code",
   "execution_count": 1,
   "outputs": [
    {
     "name": "stdout",
     "output_type": "stream",
     "text": [
      "importing Jupyter notebook from functions.ipynb\n"
     ]
    }
   ],
   "source": [
    "import import_ipynb\n",
    "import functions as f"
   ],
   "metadata": {
    "collapsed": false
   }
  },
  {
   "cell_type": "code",
   "execution_count": 2,
   "outputs": [],
   "source": [
    "p = 1993\n",
    "q = 1153\n",
    "e = 2 ** 16 + 1"
   ],
   "metadata": {
    "collapsed": false
   }
  },
  {
   "cell_type": "code",
   "execution_count": 3,
   "outputs": [
    {
     "name": "stdout",
     "output_type": "stream",
     "text": [
      "p = 1993\n",
      "q = 1153\n",
      "e = 65537\n",
      "n = 2297929\n",
      "phi_n = 2294784\n",
      "d = 1457153\n"
     ]
    },
    {
     "data": {
      "text/plain": "1457153"
     },
     "execution_count": 3,
     "metadata": {},
     "output_type": "execute_result"
    }
   ],
   "source": [
    "f.RSA_key_generation(p, q, e, True)"
   ],
   "metadata": {
    "collapsed": false
   }
  },
  {
   "cell_type": "code",
   "execution_count": 4,
   "outputs": [],
   "source": [
    "n = 2831813\n",
    "d = 1759553\n",
    "c = 1517117"
   ],
   "metadata": {
    "collapsed": false
   }
  },
  {
   "cell_type": "code",
   "execution_count": 5,
   "outputs": [
    {
     "data": {
      "text/plain": "861916"
     },
     "execution_count": 5,
     "metadata": {},
     "output_type": "execute_result"
    }
   ],
   "source": [
    "m = f.RSA_decryption(c, d, n)\n",
    "m"
   ],
   "metadata": {
    "collapsed": false
   }
  },
  {
   "cell_type": "code",
   "execution_count": 6,
   "outputs": [
    {
     "data": {
      "text/plain": "True"
     },
     "execution_count": 6,
     "metadata": {},
     "output_type": "execute_result"
    }
   ],
   "source": [
    "c == f.RSA_encryption(m, e, n)"
   ],
   "metadata": {
    "collapsed": false
   }
  },
  {
   "cell_type": "markdown",
   "source": [
    "2"
   ],
   "metadata": {
    "collapsed": false
   }
  },
  {
   "cell_type": "code",
   "execution_count": 7,
   "outputs": [],
   "source": [
    "p = 22916251\n",
    "n = p - 1\n",
    "prime_factorization = [(2, 1), (3, 3), (5, 4), (7, 1), (97, 1)]\n",
    "g = 10\n",
    "h = 14876484"
   ],
   "metadata": {
    "collapsed": false
   }
  },
  {
   "cell_type": "code",
   "execution_count": 8,
   "outputs": [
    {
     "name": "stdout",
     "output_type": "stream",
     "text": [
      "i = 1\n",
      "p = 2\n",
      "h_2_-1 = 14876484\n",
      "a_2_-1 = 0\n",
      "n_2 = 11458125\n",
      "r_2 = 22916250\n",
      "\n",
      "\tj = 0\n",
      "\tn_2_0 = 11458125\n",
      "\th_2_0 = 14876484\n",
      "\ts_2_0 = 1\n",
      "\ta_2_0 = 0\n",
      "\n",
      "i = 2\n",
      "p = 3\n",
      "h_3_-1 = 14876484\n",
      "a_3_-1 = 0\n",
      "n_3 = 7638750\n",
      "r_3 = 14230150\n",
      "\n",
      "\tj = 0\n",
      "\tn_3_0 = 7638750\n",
      "\th_3_0 = 14876484\n",
      "\ts_3_0 = 8686100\n",
      "\ta_3_0 = 2\n",
      "\n",
      "\tj = 1\n",
      "\tn_3_1 = 2546250\n",
      "\th_3_1 = 3815365\n",
      "\ts_3_1 = 14230150\n",
      "\ta_3_1 = 1\n",
      "\n",
      "\tj = 2\n",
      "\tn_3_2 = 848750\n",
      "\th_3_2 = 8826572\n",
      "\ts_3_2 = 14230150\n",
      "\ta_3_2 = 1\n",
      "\n",
      "i = 3\n",
      "p = 5\n",
      "h_5_-1 = 14876484\n",
      "a_5_-1 = 0\n",
      "n_5 = 4583250\n",
      "r_5 = 21576664\n",
      "\n",
      "\tj = 0\n",
      "\tn_5_0 = 4583250\n",
      "\th_5_0 = 14876484\n",
      "\ts_5_0 = 13379763\n",
      "\ta_5_0 = 2\n",
      "\n",
      "\tj = 1\n",
      "\tn_5_1 = 916650\n",
      "\th_5_1 = 3815365\n",
      "\ts_5_1 = 17556831\n",
      "\ta_5_1 = 4\n",
      "\n",
      "\tj = 2\n",
      "\tn_5_2 = 183330\n",
      "\th_5_2 = 21032564\n",
      "\ts_5_2 = 13379763\n",
      "\ta_5_2 = 2\n",
      "\n",
      "\tj = 3\n",
      "\tn_5_3 = 36666\n",
      "\th_5_3 = 21679995\n",
      "\ts_5_3 = 13379763\n",
      "\ta_5_3 = 2\n",
      "\n",
      "i = 4\n",
      "p = 7\n",
      "h_7_-1 = 14876484\n",
      "a_7_-1 = 0\n",
      "n_7 = 3273750\n",
      "r_7 = 9949805\n",
      "\n",
      "\tj = 0\n",
      "\tn_7_0 = 3273750\n",
      "\th_7_0 = 14876484\n",
      "\ts_7_0 = 2725507\n",
      "\ta_7_0 = 2\n",
      "\n",
      "i = 5\n",
      "p = 97\n",
      "h_97_-1 = 14876484\n",
      "a_97_-1 = 0\n",
      "n_97 = 236250\n",
      "r_97 = 2429001\n",
      "\n",
      "\tj = 0\n",
      "\tn_97_0 = 236250\n",
      "\th_97_0 = 14876484\n",
      "\ts_97_0 = 3035691\n",
      "\ta_97_0 = 33\n",
      "\n",
      "a_is = [0, 14, 322, 2, 33]\n",
      "p_is = [2, 27, 625, 7, 97]\n"
     ]
    },
    {
     "data": {
      "text/plain": "16236572"
     },
     "execution_count": 8,
     "metadata": {},
     "output_type": "execute_result"
    }
   ],
   "source": [
    "f.DLP_Pohlig_Hellman_numbers(g, h, p, n, prime_factorization, True)"
   ],
   "metadata": {
    "collapsed": false
   }
  },
  {
   "cell_type": "markdown",
   "source": [
    "3"
   ],
   "metadata": {
    "collapsed": false
   }
  },
  {
   "cell_type": "code",
   "execution_count": 9,
   "outputs": [],
   "source": [
    "n = 626583719\n",
    "a = 16661\n",
    "s = list(range(1, 15))"
   ],
   "metadata": {
    "collapsed": false
   }
  },
  {
   "cell_type": "code",
   "execution_count": 10,
   "outputs": [
    {
     "data": {
      "text/plain": "[1, 2, 3, 4, 5, 6, 7, 8, 9, 10, 11, 12, 13, 14]"
     },
     "execution_count": 10,
     "metadata": {},
     "output_type": "execute_result"
    }
   ],
   "source": [
    "s"
   ],
   "metadata": {
    "collapsed": false
   }
  },
  {
   "cell_type": "code",
   "execution_count": 11,
   "outputs": [
    {
     "name": "stdout",
     "output_type": "stream",
     "text": [
      "s = 360360\n",
      "\n",
      "b = 23810142\n",
      "d = 20161\n",
      "\n"
     ]
    },
    {
     "data": {
      "text/plain": "(20161, 31079)"
     },
     "execution_count": 11,
     "metadata": {},
     "output_type": "execute_result"
    }
   ],
   "source": [
    "f.p_1_method(n, a, s, True)"
   ],
   "metadata": {
    "collapsed": false
   }
  }
 ],
 "metadata": {
  "kernelspec": {
   "display_name": "Python 3",
   "language": "python",
   "name": "python3"
  },
  "language_info": {
   "codemirror_mode": {
    "name": "ipython",
    "version": 2
   },
   "file_extension": ".py",
   "mimetype": "text/x-python",
   "name": "python",
   "nbconvert_exporter": "python",
   "pygments_lexer": "ipython2",
   "version": "2.7.6"
  }
 },
 "nbformat": 4,
 "nbformat_minor": 0
}
