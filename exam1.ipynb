{
 "cells": [
  {
   "cell_type": "code",
   "execution_count": 1,
   "outputs": [
    {
     "name": "stdout",
     "output_type": "stream",
     "text": [
      "importing Jupyter notebook from functions.ipynb\n"
     ]
    }
   ],
   "source": [
    "import import_ipynb\n",
    "import functions as f"
   ],
   "metadata": {
    "collapsed": false
   }
  },
  {
   "cell_type": "markdown",
   "source": [
    "1"
   ],
   "metadata": {
    "collapsed": false
   }
  },
  {
   "cell_type": "code",
   "execution_count": 2,
   "outputs": [],
   "source": [
    "p = 1823\n",
    "q = 1549\n",
    "e = 2 ** 16 + 1"
   ],
   "metadata": {
    "collapsed": false
   }
  },
  {
   "cell_type": "code",
   "execution_count": 3,
   "outputs": [
    {
     "name": "stdout",
     "output_type": "stream",
     "text": [
      "p = 1823\n",
      "q = 1549\n",
      "e = 65537\n",
      "n = 2823827\n",
      "phi_n = 2820456\n",
      "d = 2543777\n"
     ]
    },
    {
     "data": {
      "text/plain": "2543777"
     },
     "execution_count": 3,
     "metadata": {},
     "output_type": "execute_result"
    }
   ],
   "source": [
    "f.RSA_key_generation(p, q, e, True)"
   ],
   "metadata": {
    "collapsed": false
   }
  },
  {
   "cell_type": "code",
   "execution_count": 4,
   "outputs": [],
   "source": [
    "n = 2760427\n",
    "d = 1459889\n",
    "c = 2154271"
   ],
   "metadata": {
    "collapsed": false
   }
  },
  {
   "cell_type": "code",
   "execution_count": 5,
   "outputs": [
    {
     "data": {
      "text/plain": "2033751"
     },
     "execution_count": 5,
     "metadata": {},
     "output_type": "execute_result"
    }
   ],
   "source": [
    "m = f.RSA_decryption(c, d, n)\n",
    "m"
   ],
   "metadata": {
    "collapsed": false
   }
  },
  {
   "cell_type": "code",
   "execution_count": 6,
   "outputs": [
    {
     "data": {
      "text/plain": "True"
     },
     "execution_count": 6,
     "metadata": {},
     "output_type": "execute_result"
    }
   ],
   "source": [
    "c == f.RSA_encryption(m, e, n)"
   ],
   "metadata": {
    "collapsed": false
   }
  },
  {
   "cell_type": "markdown",
   "source": [
    "2"
   ],
   "metadata": {
    "collapsed": false
   }
  },
  {
   "cell_type": "code",
   "execution_count": 7,
   "outputs": [],
   "source": [
    "curve_general_form = [0, 2097, 0, 1, 0]\n",
    "p = 3373\n",
    "P = (1873, 421)\n",
    "Q = (2574, 1329)\n",
    "N = 3280\n",
    "prime_factorization = [(2, 4), (5, 1), (41, 1)]"
   ],
   "metadata": {
    "collapsed": false
   }
  },
  {
   "cell_type": "code",
   "execution_count": 8,
   "outputs": [
    {
     "name": "stdout",
     "output_type": "stream",
     "text": [
      "i = 1\n",
      "p = 2\n",
      "Q_2_-1 = (2574, 1329)\n",
      "a_2_-1 = 0\n",
      "n_2 = 1640\n",
      "R_2 = (0, 0)\n",
      "\n",
      "\tj = 0\n",
      "\tn_2_0 = 1640\n",
      "\tQ_2_0 = (2574, 1329)\n",
      "\tS_2_0 = (0, 0)\n",
      "\ta_2_0 = 1\n",
      "\n",
      "\tj = 1\n",
      "\tn_2_1 = 820\n",
      "\tQ_2_1 = (767, 1267)\n",
      "\tS_2_1 = None\n",
      "\ta_2_1 = 0\n",
      "\n",
      "\tj = 2\n",
      "\tn_2_2 = 410\n",
      "\tQ_2_2 = (767, 1267)\n",
      "\tS_2_2 = (0, 0)\n",
      "\ta_2_2 = 1\n",
      "\n",
      "\tj = 3\n",
      "\tn_2_3 = 205\n",
      "\tQ_2_3 = (3235, 3008)\n",
      "\tS_2_3 = (0, 0)\n",
      "\ta_2_3 = 1\n",
      "\n",
      "i = 2\n",
      "p = 5\n",
      "Q_5_-1 = (2574, 1329)\n",
      "a_5_-1 = 0\n",
      "n_5 = 656\n",
      "R_5 = (255, 1723)\n",
      "\n",
      "\tj = 0\n",
      "\tn_5_0 = 656\n",
      "\tQ_5_0 = (2574, 1329)\n",
      "\tS_5_0 = (861, 1949)\n",
      "\ta_5_0 = 3\n",
      "\n",
      "i = 3\n",
      "p = 41\n",
      "Q_41_-1 = (2574, 1329)\n",
      "a_41_-1 = 0\n",
      "n_41 = 80\n",
      "R_41 = (3294, 2354)\n",
      "\n",
      "\tj = 0\n",
      "\tn_41_0 = 80\n",
      "\tQ_41_0 = (2574, 1329)\n",
      "\tS_41_0 = (1399, 538)\n",
      "\ta_41_0 = 27\n",
      "\n",
      "a_is = [13, 3, 27]\n",
      "p_is = [16, 5, 41]\n"
     ]
    },
    {
     "data": {
      "text/plain": "2733"
     },
     "execution_count": 8,
     "metadata": {},
     "output_type": "execute_result"
    }
   ],
   "source": [
    "f.DLP_Pohlig_Hellman_exam(P, Q, curve_general_form, p, N, prime_factorization, True)"
   ],
   "metadata": {
    "collapsed": false
   }
  },
  {
   "cell_type": "code",
   "execution_count": 9,
   "outputs": [],
   "source": [
    "R = (3294, 2354)\n",
    "S = (1399, 538)"
   ],
   "metadata": {
    "collapsed": false
   }
  },
  {
   "cell_type": "code",
   "execution_count": 10,
   "outputs": [],
   "source": [
    "curve_short_form = f.general_to_short(curve_general_form, p)\n",
    "c_4 = curve_short_form[-2]"
   ],
   "metadata": {
    "collapsed": false
   }
  },
  {
   "cell_type": "code",
   "execution_count": 11,
   "outputs": [
    {
     "name": "stdout",
     "output_type": "stream",
     "text": [
      "m = 6\n",
      "\n",
      "0R = None\n",
      "1R = (3294, 2354)\n",
      "2R = (2883, 1672)\n",
      "3R = (2939, 2240)\n",
      "4R = (1502, 1870)\n",
      "5R = (1408, 2206)\n",
      "a_0 = 3\n",
      "\n",
      "S - 0mR = (1399, 538)\n",
      "S - 1mR = (1387, 2782)\n",
      "S - 2mR = (2744, 737)\n",
      "S - 3mR = (3210, 1)\n",
      "S - 4mR = (2939, 2240)\n",
      "a_1 = 4\n",
      "\n",
      "a = 27\n",
      "1R = (3294, 2354)\n",
      "2R = (2883, 1672)\n",
      "3R = (2939, 2240)\n",
      "4R = (1502, 1870)\n",
      "5R = (1408, 2206)\n",
      "6R = (1578, 1658)\n",
      "7R = (3102, 861)\n",
      "8R = (2489, 2553)\n",
      "9R = (3210, 1)\n",
      "10R = (2698, 46)\n",
      "11R = (3045, 2436)\n",
      "12R = (2692, 2067)\n",
      "13R = (3092, 174)\n",
      "14R = (1399, 2835)\n",
      "15R = (2744, 737)\n",
      "16R = (464, 1244)\n",
      "17R = (1975, 2907)\n",
      "18R = (2788, 2712)\n",
      "19R = (1313, 524)\n",
      "20R = (1387, 591)\n",
      "21R = (1387, 2782)\n",
      "22R = (1313, 2849)\n",
      "23R = (2788, 661)\n",
      "24R = (1975, 466)\n",
      "25R = (464, 2129)\n",
      "26R = (2744, 2636)\n",
      "27R = (1399, 538)\n",
      "\n",
      "S = (1399, 538)\n"
     ]
    },
    {
     "data": {
      "text/plain": "27"
     },
     "execution_count": 11,
     "metadata": {},
     "output_type": "execute_result"
    }
   ],
   "source": [
    "f.DLP_BSGS_exam(R, S, curve_general_form, p, True)"
   ],
   "metadata": {
    "collapsed": false
   }
  }
 ],
 "metadata": {
  "kernelspec": {
   "display_name": "Python 3",
   "language": "python",
   "name": "python3"
  },
  "language_info": {
   "codemirror_mode": {
    "name": "ipython",
    "version": 2
   },
   "file_extension": ".py",
   "mimetype": "text/x-python",
   "name": "python",
   "nbconvert_exporter": "python",
   "pygments_lexer": "ipython2",
   "version": "2.7.6"
  }
 },
 "nbformat": 4,
 "nbformat_minor": 0
}
