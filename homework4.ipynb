{
 "cells": [
  {
   "cell_type": "code",
   "execution_count": 1,
   "outputs": [
    {
     "name": "stdout",
     "output_type": "stream",
     "text": [
      "importing Jupyter notebook from homework3_a.ipynb\n",
      "0P = None\n",
      "1P = (19, 42)\n",
      "2P = (36, 13)\n",
      "3P = (29, 13)\n",
      "4P = (9, 15)\n",
      "5P = (21, 30)\n",
      "a_0 = 3\n",
      "\n",
      "P_A - 0mP = (28, 15)\n",
      "P_A - 1mP = (29, 13)\n",
      "a_1 = 1\n",
      "\n",
      "a = 9\n",
      "1P = (19, 42)\n",
      "2P = (36, 13)\n",
      "3P = (29, 13)\n",
      "4P = (9, 15)\n",
      "5P = (21, 30)\n",
      "6P = (39, 35)\n",
      "7P = (2, 23)\n",
      "8P = (17, 26)\n",
      "9P = (28, 15)\n",
      "\n",
      "P_A = (28, 15)\n"
     ]
    }
   ],
   "source": [
    "import import_ipynb\n",
    "import homework3_a as h"
   ],
   "metadata": {
    "collapsed": false
   }
  },
  {
   "cell_type": "code",
   "execution_count": 2,
   "outputs": [],
   "source": [
    "import math"
   ],
   "metadata": {
    "collapsed": false
   }
  },
  {
   "cell_type": "code",
   "execution_count": 3,
   "outputs": [],
   "source": [
    "def weierstrass_multiple_additions(P, k, c_4, p):\n",
    "    Q = None\n",
    "    for i in range(k):\n",
    "        Q = h.weierstrass_addition(Q, P, c_4, p)\n",
    "    return Q"
   ],
   "metadata": {
    "collapsed": false
   }
  },
  {
   "cell_type": "code",
   "execution_count": 4,
   "outputs": [],
   "source": [
    "def CRT(rs, ns):\n",
    "\n",
    "    N = math.prod(ns)\n",
    "    x = 0\n",
    "\n",
    "    for i in range(len(ns)):\n",
    "        M = int(N / ns[i])\n",
    "        v = h.inverse(M, ns[i])\n",
    "        e = v * M\n",
    "        x += rs[i] * e\n",
    "\n",
    "    return x % N"
   ],
   "metadata": {
    "collapsed": false
   }
  },
  {
   "cell_type": "code",
   "execution_count": 5,
   "outputs": [],
   "source": [
    "def Pohlig_Hellman(P, Q, c_4, p, N, prime_factorization):\n",
    "\n",
    "    A = []\n",
    "    a_is = []\n",
    "\n",
    "    for i in range(len(prime_factorization)):\n",
    "\n",
    "        prime_i = prime_factorization[i][0]\n",
    "        power_i = prime_factorization[i][1]\n",
    "\n",
    "        Q_i = Q\n",
    "        A.append([0])\n",
    "        N_i = int(N / prime_i)\n",
    "        R_i = weierstrass_multiple_additions(P, N_i, c_4, p)\n",
    "\n",
    "        for j in range(power_i):\n",
    "\n",
    "            N_i = int(N / (prime_i ** (j + 1)))\n",
    "\n",
    "            ap = int(A[i][j] * (prime_i ** (j - 1)))\n",
    "            apP = weierstrass_multiple_additions(P, ap, c_4, p)\n",
    "            Q_i = h.weierstrass_addition(Q_i, h.negative(apP, p), c_4, p)\n",
    "\n",
    "            S_i = weierstrass_multiple_additions(Q_i, N_i, c_4, p)\n",
    "\n",
    "            A[i].append(h.DLP_BSGS(R_i, S_i, c_4, p))\n",
    "\n",
    "        a_i = 0\n",
    "        for j in range(1, len(A[i])):\n",
    "            a_i += A[i][j] * (prime_i ** (j - 1))\n",
    "        a_is.append(a_i)\n",
    "\n",
    "    p_is = []\n",
    "    for x in prime_factorization:\n",
    "        p_is.append(x[0] ** x[1])\n",
    "\n",
    "    return CRT(a_is, p_is)"
   ],
   "metadata": {
    "collapsed": false
   }
  },
  {
   "cell_type": "code",
   "execution_count": 6,
   "outputs": [],
   "source": [
    "# y^2 = x^3 + x + 2 over F_409\n",
    "p = 409\n",
    "c_4 = 1"
   ],
   "metadata": {
    "collapsed": false
   }
  },
  {
   "cell_type": "code",
   "execution_count": 7,
   "outputs": [],
   "source": [
    "P = (237, 122)\n",
    "Q = (56, 366)"
   ],
   "metadata": {
    "collapsed": false
   }
  },
  {
   "cell_type": "code",
   "execution_count": 8,
   "outputs": [],
   "source": [
    "N = (2 ** 3) * 53\n",
    "prime_factorization = [(2, 3), (53, 1)]"
   ],
   "metadata": {
    "collapsed": false
   }
  },
  {
   "cell_type": "code",
   "execution_count": 9,
   "outputs": [
    {
     "data": {
      "text/plain": "321"
     },
     "execution_count": 9,
     "metadata": {},
     "output_type": "execute_result"
    }
   ],
   "source": [
    "a = Pohlig_Hellman(P, Q, c_4, p, N, prime_factorization)\n",
    "a"
   ],
   "metadata": {
    "collapsed": false
   }
  }
 ],
 "metadata": {
  "kernelspec": {
   "display_name": "Python 3",
   "language": "python",
   "name": "python3"
  },
  "language_info": {
   "codemirror_mode": {
    "name": "ipython",
    "version": 2
   },
   "file_extension": ".py",
   "mimetype": "text/x-python",
   "name": "python",
   "nbconvert_exporter": "python",
   "pygments_lexer": "ipython2",
   "version": "2.7.6"
  }
 },
 "nbformat": 4,
 "nbformat_minor": 0
}
