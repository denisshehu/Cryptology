{
 "cells": [
  {
   "cell_type": "code",
   "execution_count": 1,
   "outputs": [
    {
     "name": "stdout",
     "output_type": "stream",
     "text": [
      "importing Jupyter notebook from homework3_a.ipynb\n",
      "0P = None\n",
      "1P = (19, 42)\n",
      "2P = (36, 13)\n",
      "3P = (29, 13)\n",
      "4P = (9, 15)\n",
      "5P = (21, 30)\n",
      "a_0 = 3\n",
      "\n",
      "P_A - 0mP = (28, 15)\n",
      "P_A - 1mP = (29, 13)\n",
      "a_1 = 1\n",
      "\n",
      "a = 9\n",
      "1P = (19, 42)\n",
      "2P = (36, 13)\n",
      "3P = (29, 13)\n",
      "4P = (9, 15)\n",
      "5P = (21, 30)\n",
      "6P = (39, 35)\n",
      "7P = (2, 23)\n",
      "8P = (17, 26)\n",
      "9P = (28, 15)\n",
      "\n",
      "P_A = (28, 15)\n"
     ]
    }
   ],
   "source": [
    "import import_ipynb\n",
    "import homework3_a as h"
   ],
   "metadata": {
    "collapsed": false
   }
  },
  {
   "cell_type": "code",
   "execution_count": 2,
   "metadata": {
    "collapsed": true
   },
   "outputs": [],
   "source": [
    "def get_s(W, k, p):\n",
    "    return (W[0] % p) % k"
   ]
  },
  {
   "cell_type": "code",
   "execution_count": 3,
   "outputs": [],
   "source": [
    "def update_W(W, P, P_A, s, c_4, p):\n",
    "    if s == 0:\n",
    "        return h.weierstrass_addition(W, P, c_4, p)\n",
    "    elif s == 1:\n",
    "        return h.weierstrass_addition(W, P_A, c_4, p)\n",
    "    else:\n",
    "        return h.weierstrass_addition(W, W, c_4, p)"
   ],
   "metadata": {
    "collapsed": false
   }
  },
  {
   "cell_type": "code",
   "execution_count": 4,
   "outputs": [],
   "source": [
    "def update_b(b, s, p):\n",
    "    if s == 0:\n",
    "        return (b + 1) % p\n",
    "    elif s == 1:\n",
    "        return b % p\n",
    "    else:\n",
    "        return (2 * b) % p"
   ],
   "metadata": {
    "collapsed": false
   }
  },
  {
   "cell_type": "code",
   "execution_count": 5,
   "outputs": [],
   "source": [
    "def update_c(c, s, p):\n",
    "    if s == 0:\n",
    "        return c % p\n",
    "    elif s == 1:\n",
    "        return (c + 1) % p\n",
    "    else:\n",
    "        return (2 * c) % p"
   ],
   "metadata": {
    "collapsed": false
   }
  },
  {
   "cell_type": "code",
   "execution_count": 6,
   "outputs": [],
   "source": [
    "def step(W, b, c, P, P_A, k, c_4, p):\n",
    "    s = get_s(W, k, p)\n",
    "    return update_W(W, P, P_A, s, c_4, p), update_b(b, s, p), update_c(c, s, p)"
   ],
   "metadata": {
    "collapsed": false
   }
  },
  {
   "cell_type": "code",
   "execution_count": 7,
   "outputs": [],
   "source": [
    "def Pollards_rho(P, P_A, S_0, F_0, b_0, c_0, k, c_4, p):\n",
    "\n",
    "    Ss = [S_0]\n",
    "    S_bs = [b_0]\n",
    "    S_cs = [c_0]\n",
    "\n",
    "    Fs = [F_0]\n",
    "    F_bs = [b_0]\n",
    "    F_cs = [c_0]\n",
    "\n",
    "    while len(Ss) == 1 or not(\n",
    "        Ss[-1][0] == Fs[-1][0] and Ss[-1][1] == Fs[-1][1]):\n",
    "\n",
    "        next_S, next_S_b, next_S_c = step(\n",
    "            Ss[-1], S_bs[-1], S_cs[-1], P, P_A, k, c_4, p\n",
    "        )\n",
    "        Ss.append(next_S)\n",
    "        S_bs.append(next_S_b)\n",
    "        S_cs.append(next_S_c)\n",
    "\n",
    "        next_F, next_F_b, next_F_c = step(\n",
    "            Fs[-1], F_bs[-1], F_cs[-1], P, P_A, k, c_4, p\n",
    "        )\n",
    "        next_F, next_F_b, next_F_c = step(\n",
    "            next_F, next_F_b, next_F_c, P, P_A, k, c_4, p\n",
    "        )\n",
    "        Fs.append(next_F)\n",
    "        F_bs.append(next_F_b)\n",
    "        F_cs.append(next_F_c)\n",
    "\n",
    "    a = ((S_bs[-1] - F_bs[-1]) * h.inverse(S_cs[-1] - F_cs[-1], p)) % p\n",
    "\n",
    "    return Ss, S_bs, S_cs, Fs, F_bs, F_cs, a"
   ],
   "metadata": {
    "collapsed": false
   }
  },
  {
   "cell_type": "code",
   "execution_count": 8,
   "outputs": [],
   "source": [
    "def print_results(Ss, S_bs, S_cs, Fs, F_bs, F_cs, a):\n",
    "\n",
    "    for i in range(len(Ss)):\n",
    "        print(\n",
    "            'S' + str(i) + ' = ' + str(Ss[i]) + '\\t\\t' + 'b' + str(\n",
    "            i) + ' = ' + str(S_bs[i]) + '\\t\\t' + 'c' + str(\n",
    "            i) + ' = ' + str(S_cs[i])\n",
    "        )\n",
    "\n",
    "    print()\n",
    "\n",
    "    for i in range(len(Fs)):\n",
    "        print(\n",
    "            'F' + str(i) + ' = ' + str(Fs[i]) + '\\t\\t' + 'b' + str(\n",
    "            i) + ' = ' + str(F_bs[i]) + '\\t\\t' + 'c' + str(\n",
    "            i) + ' = ' + str(F_cs[i])\n",
    "        )\n",
    "\n",
    "    print()\n",
    "    print('a = ' + str(a))"
   ],
   "metadata": {
    "collapsed": false
   }
  },
  {
   "cell_type": "code",
   "execution_count": 9,
   "outputs": [],
   "source": [
    "# y^2 = x^3 + x + 3 over F_43\n",
    "p = 43\n",
    "c_4 = 1"
   ],
   "metadata": {
    "collapsed": false
   }
  },
  {
   "cell_type": "code",
   "execution_count": 10,
   "outputs": [],
   "source": [
    "P = (19, 42)\n",
    "P_A = (28, 15)"
   ],
   "metadata": {
    "collapsed": false
   }
  },
  {
   "cell_type": "code",
   "execution_count": 11,
   "outputs": [],
   "source": [
    "k = 3"
   ],
   "metadata": {
    "collapsed": false
   }
  },
  {
   "cell_type": "code",
   "execution_count": 12,
   "outputs": [],
   "source": [
    "W_0 = (36, 30)\n",
    "b_0 = 0\n",
    "c_0 = 5"
   ],
   "metadata": {
    "collapsed": false
   }
  },
  {
   "cell_type": "code",
   "execution_count": 13,
   "outputs": [],
   "source": [
    "Ss, S_bs, S_cs, Fs, F_bs, F_cs, a = Pollards_rho(\n",
    "    P, P_A, W_0, W_0, b_0, c_0, k, c_4, p)"
   ],
   "metadata": {
    "collapsed": false
   }
  },
  {
   "cell_type": "code",
   "execution_count": 14,
   "outputs": [
    {
     "name": "stdout",
     "output_type": "stream",
     "text": [
      "S0 = (36, 30)\t\tb0 = 0\t\tc0 = 5\n",
      "S1 = (19, 1)\t\tb1 = 1\t\tc1 = 5\n",
      "S2 = (17, 26)\t\tb2 = 1\t\tc2 = 6\n",
      "S3 = (22, 3)\t\tb3 = 2\t\tc3 = 12\n",
      "S4 = (40, 4)\t\tb4 = 2\t\tc4 = 13\n",
      "\n",
      "F0 = (36, 30)\t\tb0 = 0\t\tc0 = 5\n",
      "F1 = (17, 26)\t\tb1 = 1\t\tc1 = 6\n",
      "F2 = (40, 4)\t\tb2 = 2\t\tc2 = 13\n",
      "F3 = (33, 5)\t\tb3 = 3\t\tc3 = 14\n",
      "F4 = (40, 4)\t\tb4 = 8\t\tc4 = 28\n",
      "\n",
      "a = 9\n"
     ]
    }
   ],
   "source": [
    "print_results(Ss, S_bs, S_cs, Fs, F_bs, F_cs, a)"
   ],
   "metadata": {
    "collapsed": false
   }
  },
  {
   "cell_type": "markdown",
   "source": [
    "Extra"
   ],
   "metadata": {
    "collapsed": false
   }
  },
  {
   "cell_type": "code",
   "execution_count": 15,
   "outputs": [],
   "source": [
    "def DLP_Pollards_rho(P, P_A, S_0, F_0, b_0, c_0, k, c_4, p):\n",
    "    Ss, S_bs, S_cs, Fs, F_bs, F_cs, a = Pollards_rho(\n",
    "        P, P_A, S_0, F_0, b_0, c_0, k, c_4, p)\n",
    "    return a"
   ],
   "metadata": {
    "collapsed": false
   }
  }
 ],
 "metadata": {
  "kernelspec": {
   "display_name": "Python 3",
   "language": "python",
   "name": "python3"
  },
  "language_info": {
   "codemirror_mode": {
    "name": "ipython",
    "version": 2
   },
   "file_extension": ".py",
   "mimetype": "text/x-python",
   "name": "python",
   "nbconvert_exporter": "python",
   "pygments_lexer": "ipython2",
   "version": "2.7.6"
  }
 },
 "nbformat": 4,
 "nbformat_minor": 0
}
