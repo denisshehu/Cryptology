{
 "cells": [
  {
   "cell_type": "code",
   "source": [
    "import import_ipynb\n",
    "import functions as f"
   ],
   "metadata": {
    "collapsed": false,
    "ExecuteTime": {
     "end_time": "2024-10-21T13:12:40.969009Z",
     "start_time": "2024-10-21T13:12:40.685718Z"
    }
   },
   "outputs": [],
   "execution_count": 1
  },
  {
   "cell_type": "code",
   "source": [
    "# y^2 = x^3 + x + 2 over F_409\n",
    "p = 409\n",
    "c_4 = 1"
   ],
   "metadata": {
    "collapsed": false,
    "ExecuteTime": {
     "end_time": "2024-10-21T13:12:40.980938Z",
     "start_time": "2024-10-21T13:12:40.975885Z"
    }
   },
   "outputs": [],
   "execution_count": 2
  },
  {
   "cell_type": "code",
   "source": [
    "P = (237, 122)\n",
    "Q = (56, 366)"
   ],
   "metadata": {
    "collapsed": false,
    "ExecuteTime": {
     "end_time": "2024-10-21T13:12:41.165880Z",
     "start_time": "2024-10-21T13:12:41.159856Z"
    }
   },
   "outputs": [],
   "execution_count": 3
  },
  {
   "cell_type": "code",
   "source": [
    "N = (2 ** 3) * 53\n",
    "prime_factorization = [(2, 3), (53, 1)]"
   ],
   "metadata": {
    "collapsed": false,
    "ExecuteTime": {
     "end_time": "2024-10-21T13:12:41.211634Z",
     "start_time": "2024-10-21T13:12:41.207048Z"
    }
   },
   "outputs": [],
   "execution_count": 4
  },
  {
   "cell_type": "code",
   "source": [
    "f.DLP_Pohlig_Hellman(P, Q, c_4, p, N, prime_factorization, True)"
   ],
   "metadata": {
    "collapsed": false,
    "ExecuteTime": {
     "end_time": "2024-10-21T13:12:41.263607Z",
     "start_time": "2024-10-21T13:12:41.254766Z"
    }
   },
   "outputs": [
    {
     "name": "stdout",
     "output_type": "stream",
     "text": [
      "i = 1\n",
      "Q_1 = (56, 366)\n",
      "a_1_-1 = 0\n",
      "N_1 = 212\n",
      "R_1 = (408, 0)\n",
      "\n",
      "\tj = 0\n",
      "\tN_1 = 212\n",
      "\tQ_1 = (56, 366)\n",
      "\tS_1 = (408, 0)\n",
      "\ta_1_0 = 1\n",
      "\n",
      "\tj = 1\n",
      "\tN_1 = 106\n",
      "\tQ_1 = (358, 394)\n",
      "\tS_1 = None\n",
      "\ta_1_1 = 0\n",
      "\n",
      "\tj = 2\n",
      "\tN_1 = 53\n",
      "\tQ_1 = (358, 394)\n",
      "\tS_1 = None\n",
      "\ta_1_2 = 0\n",
      "\n",
      "i = 2\n",
      "Q_2 = (56, 366)\n",
      "a_2_-1 = 0\n",
      "N_2 = 8\n",
      "R_2 = (355, 331)\n",
      "\n",
      "\tj = 0\n",
      "\tN_2 = 8\n",
      "\tQ_2 = (56, 366)\n",
      "\tS_2 = (33, 364)\n",
      "\ta_2_0 = 3\n",
      "\n",
      "a_is = [1, 3]\n",
      "p_is = [8, 53]\n"
     ]
    },
    {
     "data": {
      "text/plain": [
       "321"
      ]
     },
     "execution_count": 5,
     "metadata": {},
     "output_type": "execute_result"
    }
   ],
   "execution_count": 5
  }
 ],
 "metadata": {
  "kernelspec": {
   "display_name": "Python 3",
   "language": "python",
   "name": "python3"
  },
  "language_info": {
   "codemirror_mode": {
    "name": "ipython",
    "version": 2
   },
   "file_extension": ".py",
   "mimetype": "text/x-python",
   "name": "python",
   "nbconvert_exporter": "python",
   "pygments_lexer": "ipython2",
   "version": "2.7.6"
  }
 },
 "nbformat": 4,
 "nbformat_minor": 0
}
