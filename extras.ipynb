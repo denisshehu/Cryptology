{
 "cells": [
  {
   "cell_type": "code",
   "execution_count": 1,
   "metadata": {
    "collapsed": true
   },
   "outputs": [],
   "source": [
    "def number_of_points(c_4, c_6, p, print_points=False):\n",
    "\n",
    "    count = 1\n",
    "\n",
    "    for i in range(p):\n",
    "        y_squared = ((i ** 3) + c_4 * i + c_6) % p\n",
    "\n",
    "        for j in range(p):\n",
    "            if ((j ** 2) % p) == y_squared:\n",
    "                count += 1\n",
    "\n",
    "                if print_points:\n",
    "                    print('(' + str(i) + ', ' + str(j) + ')')\n",
    "    return count"
   ]
  }
 ],
 "metadata": {
  "kernelspec": {
   "display_name": "Python 3",
   "language": "python",
   "name": "python3"
  },
  "language_info": {
   "codemirror_mode": {
    "name": "ipython",
    "version": 2
   },
   "file_extension": ".py",
   "mimetype": "text/x-python",
   "name": "python",
   "nbconvert_exporter": "python",
   "pygments_lexer": "ipython2",
   "version": "2.7.6"
  }
 },
 "nbformat": 4,
 "nbformat_minor": 0
}
