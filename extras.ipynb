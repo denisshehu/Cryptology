{
 "cells": [
  {
   "cell_type": "code",
   "execution_count": 1,
   "metadata": {
    "collapsed": true
   },
   "outputs": [],
   "source": [
    "def number_of_points(c_4, c_6, p, print_points=False):\n",
    "\n",
    "    count = 1\n",
    "\n",
    "    for i in range(p):\n",
    "        y_squared = ((i ** 3) + c_4 * i + c_6) % p\n",
    "\n",
    "        for j in range(p):\n",
    "            if ((j ** 2) % p) == y_squared:\n",
    "                count += 1\n",
    "\n",
    "                if print_points:\n",
    "                    print('(' + str(i) + ', ' + str(j) + ')')\n",
    "    return count"
   ]
  },
  {
   "cell_type": "code",
   "execution_count": 2,
   "outputs": [],
   "source": [
    "# y^2 + c_1*x*y + c_3*y = x^3 + c_2*x^2 + c_4*x + c_6\n",
    "\n",
    "def is_on_curve(P, cs, p):\n",
    "    x = P[0]\n",
    "    y = P[1]\n",
    "    left_side = (y ** 2 + cs[0] * x * y + cs[2] * y) % p\n",
    "    right_side = (x ** 3 + cs[1] * x ** 2 + cs[3] * x + cs[4]) % p\n",
    "    return left_side == right_side"
   ],
   "metadata": {
    "collapsed": false
   }
  }
 ],
 "metadata": {
  "kernelspec": {
   "display_name": "Python 3",
   "language": "python",
   "name": "python3"
  },
  "language_info": {
   "codemirror_mode": {
    "name": "ipython",
    "version": 2
   },
   "file_extension": ".py",
   "mimetype": "text/x-python",
   "name": "python",
   "nbconvert_exporter": "python",
   "pygments_lexer": "ipython2",
   "version": "2.7.6"
  }
 },
 "nbformat": 4,
 "nbformat_minor": 0
}
