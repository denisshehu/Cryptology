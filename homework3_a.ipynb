{
 "cells": [
  {
   "cell_type": "code",
   "execution_count": 1,
   "outputs": [],
   "source": [
    "import math"
   ],
   "metadata": {
    "collapsed": false
   }
  },
  {
   "cell_type": "code",
   "execution_count": 2,
   "outputs": [],
   "source": [
    "def inverse(x, p):\n",
    "    for i in range(1, p):\n",
    "        if ((x * i) % p) == 1:\n",
    "            return i\n",
    "    raise Exception('No inverse exists.')"
   ],
   "metadata": {
    "collapsed": false
   }
  },
  {
   "cell_type": "code",
   "execution_count": 3,
   "outputs": [],
   "source": [
    "def negative(P, p):\n",
    "    if not P is None:\n",
    "        return (P[0], (-1 * P[1]) % p)\n",
    "    else:\n",
    "        return P"
   ],
   "metadata": {
    "collapsed": false
   }
  },
  {
   "cell_type": "code",
   "execution_count": 4,
   "outputs": [],
   "source": [
    "def double(P, c_4, p):\n",
    "\n",
    "    numerator = (3 * (P[0] ** 2) + c_4) % p\n",
    "    denominator = (2 * P[1]) % p\n",
    "\n",
    "    l = (numerator * inverse(denominator, p)) % p\n",
    "\n",
    "    x = (l ** 2 - 2 * P[0]) % p\n",
    "    y = (l * (P[0] - x) - P[1]) % p\n",
    "\n",
    "    return (x, y)"
   ],
   "metadata": {
    "collapsed": false
   }
  },
  {
   "cell_type": "code",
   "execution_count": 5,
   "outputs": [],
   "source": [
    "# P = (x_1, y_1) -> P[0] = x_1, P[1] = y_1\n",
    "# Q = (x_2, y_2) -> Q[0] = x_2, Q[1] = y_2\n",
    "\n",
    "def add(P, Q, p):\n",
    "\n",
    "    numerator = (P[1] - Q[1]) % p\n",
    "    denominator = (P[0] - Q[0]) % p\n",
    "\n",
    "    l = (numerator * inverse(denominator, p)) % p\n",
    "\n",
    "    x = (l ** 2 - P[0] - Q[0]) % p\n",
    "    y = (l * (P[0] - x) - P[1]) % p\n",
    "\n",
    "    return (x, y)"
   ],
   "metadata": {
    "collapsed": false
   }
  },
  {
   "cell_type": "code",
   "execution_count": 6,
   "outputs": [],
   "source": [
    "# P = (x_1, y_1) -> P[0] = x_1, P[1] = y_1\n",
    "# Q = (x_2, y_2) -> Q[0] = x_2, Q[1] = y_2\n",
    "\n",
    "def weierstrass_addition(P, Q, c_4, p):\n",
    "\n",
    "    if P is None:\n",
    "        return Q\n",
    "    if Q is None:\n",
    "        return P\n",
    "    if P[0] == Q[0] and P[1] == ((-1 * Q[1]) % p):\n",
    "        return None\n",
    "    elif P[0] == Q[0] and P[1] == Q[1]:\n",
    "        return double(P, c_4, p)\n",
    "    else:\n",
    "        return add(P, Q, p)"
   ],
   "metadata": {
    "collapsed": false
   }
  },
  {
   "cell_type": "code",
   "execution_count": 7,
   "outputs": [],
   "source": [
    "def order(P, c_4, p):\n",
    "\n",
    "    sum = P\n",
    "    order = 1\n",
    "\n",
    "    while not sum is None:\n",
    "        sum = weierstrass_addition(sum, P, c_4, p)\n",
    "        order += 1\n",
    "\n",
    "    return order"
   ],
   "metadata": {
    "collapsed": false
   }
  },
  {
   "cell_type": "code",
   "execution_count": 8,
   "outputs": [],
   "source": [
    "def generate_steps(P, P_A, c_4, p):\n",
    "\n",
    "    N = order(P, c_4, p)\n",
    "    m = math.floor(math.sqrt(N))\n",
    "\n",
    "    left_side = [None]\n",
    "    for i in range(m - 1):\n",
    "        left_side.append(weierstrass_addition(left_side[i], P, c_4, p))\n",
    "\n",
    "    right_side = [P_A]\n",
    "    mP = weierstrass_addition(left_side[-1], P, c_4, p)\n",
    "    n_mP = negative(mP, p)\n",
    "\n",
    "    for i in range(math.floor(N / m) + 1):\n",
    "        right_side.append(weierstrass_addition(right_side[i], n_mP, c_4, p))\n",
    "\n",
    "        if right_side[-1] is None:\n",
    "            a_0 = 0\n",
    "            a_1 = len(right_side) - 1\n",
    "            a = a_0 + m * a_1\n",
    "\n",
    "            return left_side, right_side, a_0, a_1, a\n",
    "\n",
    "        for j in range(1, len(left_side)):\n",
    "            a = right_side[-1]\n",
    "            b = left_side[j]\n",
    "\n",
    "            if a[0] == b[0] and a[1] == b[1]:\n",
    "                a_0 = j\n",
    "                a_1 = len(right_side) - 1\n",
    "                a = a_0 + m * a_1\n",
    "\n",
    "                return left_side, right_side, a_0, a_1, a"
   ],
   "metadata": {
    "collapsed": false
   }
  },
  {
   "cell_type": "code",
   "execution_count": 9,
   "outputs": [],
   "source": [
    "def print_results(left_side, right_side, a_0, a_1, a, P, P_A, c_4, p):\n",
    "\n",
    "    for i in range(len(left_side)):\n",
    "        print(str(i) + 'P = ' + str(left_side[i]))\n",
    "    print('a_0 = ' + str(a_0))\n",
    "    print()\n",
    "\n",
    "    for i in range(len(right_side)):\n",
    "        print('P_A - ' + str(i) + 'mP = ' + str(right_side[i]))\n",
    "    print('a_1 = ' + str(a_1))\n",
    "    print()\n",
    "\n",
    "    print('a = ' + str(a))\n",
    "    Q = None\n",
    "    for i in range(a):\n",
    "        Q = weierstrass_addition(Q, P, c_4, p)\n",
    "        print(str(i + 1) + 'P = ' + str(Q))\n",
    "\n",
    "    print()\n",
    "    print('P_A = ' + str(P_A))"
   ],
   "metadata": {
    "collapsed": false
   }
  },
  {
   "cell_type": "code",
   "execution_count": 10,
   "outputs": [],
   "source": [
    "# y^2 = x^3 + x + 3 over F_43\n",
    "p = 43\n",
    "c_4 = 1"
   ],
   "metadata": {
    "collapsed": false
   }
  },
  {
   "cell_type": "code",
   "execution_count": 11,
   "outputs": [],
   "source": [
    "P = (19, 42)\n",
    "P_A = (28, 15)"
   ],
   "metadata": {
    "collapsed": false
   }
  },
  {
   "cell_type": "code",
   "execution_count": 12,
   "outputs": [],
   "source": [
    "left_side, right_side, a_0, a_1, a = generate_steps(P, P_A, c_4, p)"
   ],
   "metadata": {
    "collapsed": false
   }
  },
  {
   "cell_type": "code",
   "execution_count": 13,
   "outputs": [
    {
     "name": "stdout",
     "output_type": "stream",
     "text": [
      "0P = None\n",
      "1P = (19, 42)\n",
      "2P = (36, 13)\n",
      "3P = (29, 13)\n",
      "4P = (9, 15)\n",
      "5P = (21, 30)\n",
      "a_0 = 3\n",
      "\n",
      "P_A - 0mP = (28, 15)\n",
      "P_A - 1mP = (29, 13)\n",
      "a_1 = 1\n",
      "\n",
      "a = 9\n",
      "1P = (19, 42)\n",
      "2P = (36, 13)\n",
      "3P = (29, 13)\n",
      "4P = (9, 15)\n",
      "5P = (21, 30)\n",
      "6P = (39, 35)\n",
      "7P = (2, 23)\n",
      "8P = (17, 26)\n",
      "9P = (28, 15)\n",
      "\n",
      "P_A = (28, 15)\n"
     ]
    }
   ],
   "source": [
    "print_results(left_side, right_side, a_0, a_1, a, P, P_A, c_4, p)"
   ],
   "metadata": {
    "collapsed": false
   }
  },
  {
   "cell_type": "markdown",
   "source": [
    "Extra"
   ],
   "metadata": {
    "collapsed": false
   }
  },
  {
   "cell_type": "code",
   "execution_count": 14,
   "outputs": [],
   "source": [
    "def DLP_BSGS(P, P_A, c_4, p):\n",
    "    left_side, right_side, a_0, a_1, a = generate_steps(P, P_A, c_4, p)\n",
    "    return a"
   ],
   "metadata": {
    "collapsed": false
   }
  }
 ],
 "metadata": {
  "kernelspec": {
   "display_name": "Python 3",
   "language": "python",
   "name": "python3"
  },
  "language_info": {
   "codemirror_mode": {
    "name": "ipython",
    "version": 2
   },
   "file_extension": ".py",
   "mimetype": "text/x-python",
   "name": "python",
   "nbconvert_exporter": "python",
   "pygments_lexer": "ipython2",
   "version": "2.7.6"
  }
 },
 "nbformat": 4,
 "nbformat_minor": 0
}
