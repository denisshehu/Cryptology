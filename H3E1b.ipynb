{
 "cells": [
  {
   "cell_type": "code",
   "source": [
    "import import_ipynb\n",
    "import functions as f"
   ],
   "metadata": {
    "collapsed": false,
    "ExecuteTime": {
     "end_time": "2024-10-21T13:12:33.806818Z",
     "start_time": "2024-10-21T13:12:33.561870Z"
    }
   },
   "outputs": [],
   "execution_count": 1
  },
  {
   "cell_type": "code",
   "source": [
    "# y^2 = x^3 + x + 3 over F_43\n",
    "p = 43\n",
    "c_4 = 1"
   ],
   "metadata": {
    "collapsed": false,
    "ExecuteTime": {
     "end_time": "2024-10-21T13:12:33.818366Z",
     "start_time": "2024-10-21T13:12:33.812559Z"
    }
   },
   "outputs": [],
   "execution_count": 2
  },
  {
   "cell_type": "code",
   "source": [
    "P = (19, 42)\n",
    "P_A = (28, 15)"
   ],
   "metadata": {
    "collapsed": false,
    "ExecuteTime": {
     "end_time": "2024-10-21T13:12:33.988255Z",
     "start_time": "2024-10-21T13:12:33.983343Z"
    }
   },
   "outputs": [],
   "execution_count": 3
  },
  {
   "cell_type": "code",
   "source": [
    "k = 3"
   ],
   "metadata": {
    "collapsed": false,
    "ExecuteTime": {
     "end_time": "2024-10-21T13:12:34.038556Z",
     "start_time": "2024-10-21T13:12:34.034772Z"
    }
   },
   "outputs": [],
   "execution_count": 4
  },
  {
   "cell_type": "code",
   "source": [
    "W_0 = (36, 30)\n",
    "b_0 = 0\n",
    "c_0 = 5"
   ],
   "metadata": {
    "collapsed": false,
    "ExecuteTime": {
     "end_time": "2024-10-21T13:12:34.066033Z",
     "start_time": "2024-10-21T13:12:34.063259Z"
    }
   },
   "outputs": [],
   "execution_count": 5
  },
  {
   "cell_type": "code",
   "source": [
    "f.DLP_Pollards_rho(P, P_A, W_0, W_0, b_0, c_0, k, c_4, p, True)"
   ],
   "metadata": {
    "collapsed": false,
    "ExecuteTime": {
     "end_time": "2024-10-21T13:12:34.097882Z",
     "start_time": "2024-10-21T13:12:34.086767Z"
    }
   },
   "outputs": [
    {
     "name": "stdout",
     "output_type": "stream",
     "text": [
      "S0 = (36, 30)\t\tb0 = 0\t\tc0 = 5\n",
      "S1 = (19, 1)\t\tb1 = 1\t\tc1 = 5\n",
      "S2 = (17, 26)\t\tb2 = 1\t\tc2 = 6\n",
      "S3 = (22, 3)\t\tb3 = 2\t\tc3 = 12\n",
      "S4 = (40, 4)\t\tb4 = 2\t\tc4 = 13\n",
      "\n",
      "F0 = (36, 30)\t\tb0 = 0\t\tc0 = 5\n",
      "F1 = (17, 26)\t\tb1 = 1\t\tc1 = 6\n",
      "F2 = (40, 4)\t\tb2 = 2\t\tc2 = 13\n",
      "F3 = (33, 5)\t\tb3 = 3\t\tc3 = 14\n",
      "F4 = (40, 4)\t\tb4 = 8\t\tc4 = 28\n",
      "\n",
      "a = 9\n"
     ]
    },
    {
     "data": {
      "text/plain": [
       "9"
      ]
     },
     "execution_count": 6,
     "metadata": {},
     "output_type": "execute_result"
    }
   ],
   "execution_count": 6
  }
 ],
 "metadata": {
  "kernelspec": {
   "display_name": "Python 3",
   "language": "python",
   "name": "python3"
  },
  "language_info": {
   "codemirror_mode": {
    "name": "ipython",
    "version": 2
   },
   "file_extension": ".py",
   "mimetype": "text/x-python",
   "name": "python",
   "nbconvert_exporter": "python",
   "pygments_lexer": "ipython2",
   "version": "2.7.6"
  }
 },
 "nbformat": 4,
 "nbformat_minor": 0
}
