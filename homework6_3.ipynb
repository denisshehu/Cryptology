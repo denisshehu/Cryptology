{
 "cells": [
  {
   "cell_type": "code",
   "execution_count": 1,
   "outputs": [],
   "source": [
    "import math"
   ],
   "metadata": {
    "collapsed": false
   }
  },
  {
   "cell_type": "code",
   "execution_count": 2,
   "outputs": [],
   "source": [
    "def p_1_method(n, a, s):\n",
    "\n",
    "    print('s = ' + str(s))\n",
    "\n",
    "    while True:\n",
    "        b = (a ** s) % n\n",
    "        print('b = ' + str(b))\n",
    "        d = math.gcd(b - 1, n)\n",
    "        if not d == 1 and not d == n:\n",
    "            return d, int(n / d)"
   ],
   "metadata": {
    "collapsed": false
   }
  },
  {
   "cell_type": "code",
   "execution_count": 3,
   "outputs": [],
   "source": [
    "n = 396553\n",
    "a = 8\n",
    "s = math.lcm(1, 2, 3, 4, 5, 6, 7, 8, 9, 10, 11, 12)"
   ],
   "metadata": {
    "collapsed": false
   }
  },
  {
   "cell_type": "code",
   "execution_count": 4,
   "outputs": [
    {
     "name": "stdout",
     "output_type": "stream",
     "text": [
      "s = 27720\n",
      "b = 192056\n"
     ]
    },
    {
     "data": {
      "text/plain": "(541, 733)"
     },
     "execution_count": 4,
     "metadata": {},
     "output_type": "execute_result"
    }
   ],
   "source": [
    "p, q = p_1_method(n, a, s)\n",
    "p, q"
   ],
   "metadata": {
    "collapsed": false
   }
  }
 ],
 "metadata": {
  "kernelspec": {
   "display_name": "Python 3",
   "language": "python",
   "name": "python3"
  },
  "language_info": {
   "codemirror_mode": {
    "name": "ipython",
    "version": 2
   },
   "file_extension": ".py",
   "mimetype": "text/x-python",
   "name": "python",
   "nbconvert_exporter": "python",
   "pygments_lexer": "ipython2",
   "version": "2.7.6"
  }
 },
 "nbformat": 4,
 "nbformat_minor": 0
}
