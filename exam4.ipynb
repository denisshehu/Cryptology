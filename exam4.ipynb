{
 "cells": [
  {
   "cell_type": "code",
   "execution_count": 1,
   "outputs": [
    {
     "name": "stdout",
     "output_type": "stream",
     "text": [
      "importing Jupyter notebook from functions.ipynb\n"
     ]
    }
   ],
   "source": [
    "import import_ipynb\n",
    "import functions as f"
   ],
   "metadata": {
    "collapsed": false
   }
  },
  {
   "cell_type": "code",
   "execution_count": 2,
   "outputs": [],
   "source": [
    "p = 1000003\n",
    "g = 2\n",
    "a = 322470"
   ],
   "metadata": {
    "collapsed": false
   }
  },
  {
   "cell_type": "code",
   "execution_count": 3,
   "outputs": [
    {
     "data": {
      "text/plain": "514229"
     },
     "execution_count": 3,
     "metadata": {},
     "output_type": "execute_result"
    }
   ],
   "source": [
    "f.DH_public_key(g, a, p)"
   ],
   "metadata": {
    "collapsed": false
   }
  },
  {
   "cell_type": "code",
   "execution_count": 4,
   "outputs": [],
   "source": [
    "h_B = 55013"
   ],
   "metadata": {
    "collapsed": false
   }
  },
  {
   "cell_type": "code",
   "execution_count": 5,
   "outputs": [
    {
     "data": {
      "text/plain": "553408"
     },
     "execution_count": 5,
     "metadata": {},
     "output_type": "execute_result"
    }
   ],
   "source": [
    "f.DH_shared_secret(h_B, a, p)"
   ],
   "metadata": {
    "collapsed": false
   }
  },
  {
   "cell_type": "markdown",
   "source": [
    "2"
   ],
   "metadata": {
    "collapsed": false
   }
  },
  {
   "cell_type": "code",
   "execution_count": 6,
   "outputs": [],
   "source": [
    "p = 29009\n",
    "n = p - 1\n",
    "prime_factorization = [(2, 4), (7, 2), (37, 1)]\n",
    "g = 11\n",
    "h = 12542"
   ],
   "metadata": {
    "collapsed": false
   }
  },
  {
   "cell_type": "code",
   "execution_count": 7,
   "outputs": [
    {
     "name": "stdout",
     "output_type": "stream",
     "text": [
      "i = 1\n",
      "p = 2\n",
      "h_2_-1 = 12542\n",
      "a_2_-1 = 0\n",
      "n_2 = 14504\n",
      "r_2 = 29008\n",
      "\n",
      "\tj = 0\n",
      "\tn_2_0 = 14504\n",
      "\th_2_0 = 12542\n",
      "\ts_2_0 = 1\n",
      "\ta_2_0 = 0\n",
      "\n",
      "\tj = 1\n",
      "\tn_2_1 = 7252\n",
      "\th_2_1 = 12542\n",
      "\ts_2_1 = 1\n",
      "\ta_2_1 = 0\n",
      "\n",
      "\tj = 2\n",
      "\tn_2_2 = 3626\n",
      "\th_2_2 = 12542\n",
      "\ts_2_2 = 29008\n",
      "\ta_2_2 = 1\n",
      "\n",
      "\tj = 3\n",
      "\tn_2_3 = 1813\n",
      "\th_2_3 = 25063\n",
      "\ts_2_3 = 1\n",
      "\ta_2_3 = 0\n",
      "\n",
      "i = 2\n",
      "p = 7\n",
      "h_7_-1 = 12542\n",
      "a_7_-1 = 0\n",
      "n_7 = 4144\n",
      "r_7 = 25100\n",
      "\n",
      "\tj = 0\n",
      "\tn_7_0 = 4144\n",
      "\th_7_0 = 12542\n",
      "\ts_7_0 = 13173\n",
      "\ta_7_0 = 4\n",
      "\n",
      "\tj = 1\n",
      "\tn_7_1 = 592\n",
      "\th_7_1 = 25063\n",
      "\ts_7_1 = 13173\n",
      "\ta_7_1 = 4\n",
      "\n",
      "i = 3\n",
      "p = 37\n",
      "h_37_-1 = 12542\n",
      "a_37_-1 = 0\n",
      "n_37 = 784\n",
      "r_37 = 3243\n",
      "\n",
      "\tj = 0\n",
      "\tn_37_0 = 784\n",
      "\th_37_0 = 12542\n",
      "\ts_37_0 = 17462\n",
      "\ta_37_0 = 34\n",
      "\n",
      "a_is = [4, 32, 34]\n",
      "p_is = [16, 49, 37]\n"
     ]
    },
    {
     "data": {
      "text/plain": "3364"
     },
     "execution_count": 7,
     "metadata": {},
     "output_type": "execute_result"
    }
   ],
   "source": [
    "f.DLP_Pohlig_Hellman_numbers(g, h, p, n, prime_factorization, True)"
   ],
   "metadata": {
    "collapsed": false
   }
  },
  {
   "cell_type": "markdown",
   "source": [
    "3"
   ],
   "metadata": {
    "collapsed": false
   }
  },
  {
   "cell_type": "code",
   "execution_count": 8,
   "outputs": [],
   "source": [
    "n = 14802907667\n",
    "a = 934311\n",
    "s = list(range(1, 17))"
   ],
   "metadata": {
    "collapsed": false
   }
  },
  {
   "cell_type": "code",
   "execution_count": 9,
   "outputs": [
    {
     "data": {
      "text/plain": "[1, 2, 3, 4, 5, 6, 7, 8, 9, 10, 11, 12, 13, 14, 15, 16]"
     },
     "execution_count": 9,
     "metadata": {},
     "output_type": "execute_result"
    }
   ],
   "source": [
    "s"
   ],
   "metadata": {
    "collapsed": false
   }
  },
  {
   "cell_type": "code",
   "execution_count": 10,
   "outputs": [
    {
     "name": "stdout",
     "output_type": "stream",
     "text": [
      "s = 720720\n",
      "\n",
      "b = 3886901517\n",
      "d = 1247401\n",
      "\n"
     ]
    },
    {
     "data": {
      "text/plain": "(1247401, 11867)"
     },
     "execution_count": 10,
     "metadata": {},
     "output_type": "execute_result"
    }
   ],
   "source": [
    "f.p_1_method(n, a, s, True)"
   ],
   "metadata": {
    "collapsed": false
   }
  },
  {
   "cell_type": "markdown",
   "source": [
    "4"
   ],
   "metadata": {
    "collapsed": false
   }
  },
  {
   "cell_type": "code",
   "execution_count": 11,
   "outputs": [],
   "source": [
    "a = 83\n",
    "d = 149\n",
    "p = 239\n",
    "P = (172, 161)"
   ],
   "metadata": {
    "collapsed": false
   }
  },
  {
   "cell_type": "code",
   "execution_count": 12,
   "outputs": [
    {
     "name": "stdout",
     "output_type": "stream",
     "text": [
      "1P = (172, 161)\n",
      "2P = (27, 176)\n",
      "3P = (90, 19)\n"
     ]
    },
    {
     "data": {
      "text/plain": "(90, 19)"
     },
     "execution_count": 12,
     "metadata": {},
     "output_type": "execute_result"
    }
   ],
   "source": [
    "f.twisted_multiple_additions(P, 3, a, d, p, True)"
   ],
   "metadata": {
    "collapsed": false
   }
  },
  {
   "cell_type": "code",
   "execution_count": 13,
   "outputs": [
    {
     "name": "stdout",
     "output_type": "stream",
     "text": [
      "95 95\n"
     ]
    },
    {
     "data": {
      "text/plain": "True"
     },
     "execution_count": 13,
     "metadata": {},
     "output_type": "execute_result"
    }
   ],
   "source": [
    "f.is_on_twisted_curve(P, a, d, p, True)"
   ],
   "metadata": {
    "collapsed": false
   }
  },
  {
   "cell_type": "code",
   "execution_count": 14,
   "outputs": [
    {
     "name": "stdout",
     "output_type": "stream",
     "text": [
      "115 115\n"
     ]
    },
    {
     "data": {
      "text/plain": "True"
     },
     "execution_count": 14,
     "metadata": {},
     "output_type": "execute_result"
    }
   ],
   "source": [
    "f.is_on_twisted_curve((90, 19), a, d, p, True)"
   ],
   "metadata": {
    "collapsed": false
   }
  }
 ],
 "metadata": {
  "kernelspec": {
   "display_name": "Python 3",
   "language": "python",
   "name": "python3"
  },
  "language_info": {
   "codemirror_mode": {
    "name": "ipython",
    "version": 2
   },
   "file_extension": ".py",
   "mimetype": "text/x-python",
   "name": "python",
   "nbconvert_exporter": "python",
   "pygments_lexer": "ipython2",
   "version": "2.7.6"
  }
 },
 "nbformat": 4,
 "nbformat_minor": 0
}
