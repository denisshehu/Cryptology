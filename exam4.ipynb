{
 "cells": [
  {
   "cell_type": "code",
   "execution_count": 1,
   "outputs": [
    {
     "name": "stdout",
     "output_type": "stream",
     "text": [
      "importing Jupyter notebook from functions.ipynb\n"
     ]
    }
   ],
   "source": [
    "import math\n",
    "\n",
    "import import_ipynb\n",
    "import functions as f"
   ],
   "metadata": {
    "collapsed": false
   }
  },
  {
   "cell_type": "markdown",
   "source": [
    "1"
   ],
   "metadata": {
    "collapsed": false
   }
  },
  {
   "cell_type": "code",
   "execution_count": 2,
   "outputs": [],
   "source": [
    "p = 1000003\n",
    "g = 2\n",
    "a = 322470"
   ],
   "metadata": {
    "collapsed": false
   }
  },
  {
   "cell_type": "code",
   "execution_count": 3,
   "outputs": [
    {
     "data": {
      "text/plain": "514229"
     },
     "execution_count": 3,
     "metadata": {},
     "output_type": "execute_result"
    }
   ],
   "source": [
    "f.DH_public_key(g, a, p)"
   ],
   "metadata": {
    "collapsed": false
   }
  },
  {
   "cell_type": "code",
   "execution_count": 4,
   "outputs": [],
   "source": [
    "h_B = 55013"
   ],
   "metadata": {
    "collapsed": false
   }
  },
  {
   "cell_type": "code",
   "execution_count": 5,
   "outputs": [
    {
     "data": {
      "text/plain": "553408"
     },
     "execution_count": 5,
     "metadata": {},
     "output_type": "execute_result"
    }
   ],
   "source": [
    "f.DH_shared_secret(h_B, a, p)"
   ],
   "metadata": {
    "collapsed": false
   }
  },
  {
   "cell_type": "markdown",
   "source": [
    "2"
   ],
   "metadata": {
    "collapsed": false
   }
  },
  {
   "cell_type": "code",
   "execution_count": 6,
   "outputs": [],
   "source": [
    "p = 29009\n",
    "n = p - 1\n",
    "prime_factorization = [(2, 4), (7, 2), (37, 1)]\n",
    "g = 11\n",
    "h = 12542"
   ],
   "metadata": {
    "collapsed": false
   }
  },
  {
   "cell_type": "code",
   "execution_count": 7,
   "outputs": [
    {
     "name": "stdout",
     "output_type": "stream",
     "text": [
      "i = 1\n",
      "prime = 2\n",
      "H_2_-1 = 12542\n",
      "b_2_-1 = 0\n",
      "p_2 = 14504\n",
      "g_2 = 29008\n",
      "\n",
      "\tj = 0\n",
      "\tp_2_0 = 14504\n",
      "\tH_2_0 = 12542\n",
      "\th_2_0 = 1\n",
      "\tb_2_0 = 0\n",
      "\n",
      "\tj = 1\n",
      "\tp_2_1 = 7252\n",
      "\tH_2_1 = 12542\n",
      "\th_2_1 = 1\n",
      "\tb_2_1 = 0\n",
      "\n",
      "\tj = 2\n",
      "\tp_2_2 = 3626\n",
      "\tH_2_2 = 12542\n",
      "\th_2_2 = 29008\n",
      "\tb_2_2 = 1\n",
      "\n",
      "\tj = 3\n",
      "\tp_2_3 = 1813\n",
      "\tH_2_3 = 25063\n",
      "\th_2_3 = 1\n",
      "\tb_2_3 = 0\n",
      "\n",
      "i = 2\n",
      "prime = 7\n",
      "H_7_-1 = 12542\n",
      "b_7_-1 = 0\n",
      "p_7 = 4144\n",
      "g_7 = 25100\n",
      "\n",
      "\tj = 0\n",
      "\tp_7_0 = 4144\n",
      "\tH_7_0 = 12542\n",
      "\th_7_0 = 13173\n",
      "\tb_7_0 = 4\n",
      "\n",
      "\tj = 1\n",
      "\tp_7_1 = 592\n",
      "\tH_7_1 = 25063\n",
      "\th_7_1 = 13173\n",
      "\tb_7_1 = 4\n",
      "\n",
      "i = 3\n",
      "prime = 37\n",
      "H_37_-1 = 12542\n",
      "b_37_-1 = 0\n",
      "p_37 = 784\n",
      "g_37 = 3243\n",
      "\n",
      "\tj = 0\n",
      "\tp_37_0 = 784\n",
      "\tH_37_0 = 12542\n",
      "\th_37_0 = 17462\n",
      "\tb_37_0 = 34\n",
      "\n",
      "a_is = [4, 32, 34]\n",
      "p_is = [16, 49, 37]\n"
     ]
    },
    {
     "data": {
      "text/plain": "3364"
     },
     "execution_count": 7,
     "metadata": {},
     "output_type": "execute_result"
    }
   ],
   "source": [
    "f.DLP_Pohlig_Hellman_numbers(g, h, p, n, prime_factorization, True)"
   ],
   "metadata": {
    "collapsed": false
   }
  },
  {
   "cell_type": "code",
   "execution_count": 8,
   "outputs": [],
   "source": [
    "G = 3243\n",
    "H = 17462\n",
    "p = 29009\n",
    "n = 37\n",
    "rs = [3, 25, 12, 4, 9]\n",
    "ts = [17, 13, 25, 10, 32]\n",
    "r_0 = 31\n",
    "t_0 = 0"
   ],
   "metadata": {
    "collapsed": false
   }
  },
  {
   "cell_type": "code",
   "execution_count": 9,
   "outputs": [
    {
     "name": "stdout",
     "output_type": "stream",
     "text": [
      "s: [15419, 14049, 22411, 22411, 16777]\n",
      "Slow walk's powers: [(31, 0), (34, 17), (6, 12), (10, 22), (22, 10)]\n",
      "Slow walk: [7845, 23534, 17428, 1732, 1810]\n",
      "Fast walk's powers: [(31, 0), (6, 12), (22, 10), (0, 15), (15, 20)]\n",
      "Fast walk: [7845, 17428, 1810, 1810, 1810]\n"
     ]
    },
    {
     "data": {
      "text/plain": "34"
     },
     "execution_count": 9,
     "metadata": {},
     "output_type": "execute_result"
    }
   ],
   "source": [
    "f.DLP_Pollards_rho_GH(G, H, p, n, rs, ts, r_0, t_0, True)"
   ],
   "metadata": {
    "collapsed": false
   }
  },
  {
   "cell_type": "markdown",
   "source": [
    "3"
   ],
   "metadata": {
    "collapsed": false
   }
  },
  {
   "cell_type": "code",
   "execution_count": 10,
   "outputs": [],
   "source": [
    "n = 14802907667\n",
    "a = 934311\n",
    "s = list(range(1, 17))"
   ],
   "metadata": {
    "collapsed": false
   }
  },
  {
   "cell_type": "code",
   "execution_count": 11,
   "outputs": [
    {
     "data": {
      "text/plain": "[1, 2, 3, 4, 5, 6, 7, 8, 9, 10, 11, 12, 13, 14, 15, 16]"
     },
     "execution_count": 11,
     "metadata": {},
     "output_type": "execute_result"
    }
   ],
   "source": [
    "s"
   ],
   "metadata": {
    "collapsed": false
   }
  },
  {
   "cell_type": "code",
   "execution_count": 12,
   "outputs": [
    {
     "name": "stdout",
     "output_type": "stream",
     "text": [
      "s = 720720\n",
      "\n",
      "b = 3886901517\n",
      "d = 1247401\n",
      "\n"
     ]
    },
    {
     "data": {
      "text/plain": "(1247401, 11867)"
     },
     "execution_count": 12,
     "metadata": {},
     "output_type": "execute_result"
    }
   ],
   "source": [
    "f.p_1_method(n, a, s, True)"
   ],
   "metadata": {
    "collapsed": false
   }
  },
  {
   "cell_type": "markdown",
   "source": [
    "4"
   ],
   "metadata": {
    "collapsed": false
   }
  },
  {
   "cell_type": "code",
   "execution_count": 13,
   "outputs": [],
   "source": [
    "a = 83\n",
    "d = 149\n",
    "p = 239\n",
    "P = (172, 161)"
   ],
   "metadata": {
    "collapsed": false
   }
  },
  {
   "cell_type": "code",
   "execution_count": 14,
   "outputs": [
    {
     "name": "stdout",
     "output_type": "stream",
     "text": [
      "1P = (172, 161)\n",
      "2P = (27, 176)\n",
      "3P = (90, 19)\n"
     ]
    },
    {
     "data": {
      "text/plain": "(90, 19)"
     },
     "execution_count": 14,
     "metadata": {},
     "output_type": "execute_result"
    }
   ],
   "source": [
    "f.twisted_multiple_additions(P, 3, a, d, p, True)"
   ],
   "metadata": {
    "collapsed": false
   }
  },
  {
   "cell_type": "code",
   "execution_count": 15,
   "outputs": [
    {
     "name": "stdout",
     "output_type": "stream",
     "text": [
      "95 95\n"
     ]
    },
    {
     "data": {
      "text/plain": "True"
     },
     "execution_count": 15,
     "metadata": {},
     "output_type": "execute_result"
    }
   ],
   "source": [
    "f.is_on_twisted_curve(P, a, d, p, True)"
   ],
   "metadata": {
    "collapsed": false
   }
  },
  {
   "cell_type": "code",
   "execution_count": 16,
   "outputs": [
    {
     "name": "stdout",
     "output_type": "stream",
     "text": [
      "115 115\n"
     ]
    },
    {
     "data": {
      "text/plain": "True"
     },
     "execution_count": 16,
     "metadata": {},
     "output_type": "execute_result"
    }
   ],
   "source": [
    "f.is_on_twisted_curve((90, 19), a, d, p, True)"
   ],
   "metadata": {
    "collapsed": false
   }
  }
 ],
 "metadata": {
  "kernelspec": {
   "display_name": "Python 3",
   "language": "python",
   "name": "python3"
  },
  "language_info": {
   "codemirror_mode": {
    "name": "ipython",
    "version": 2
   },
   "file_extension": ".py",
   "mimetype": "text/x-python",
   "name": "python",
   "nbconvert_exporter": "python",
   "pygments_lexer": "ipython2",
   "version": "2.7.6"
  }
 },
 "nbformat": 4,
 "nbformat_minor": 0
}
