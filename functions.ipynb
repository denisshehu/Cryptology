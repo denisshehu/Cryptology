{
 "cells": [
  {
   "cell_type": "code",
   "execution_count": 1,
   "outputs": [],
   "source": [
    "import math"
   ],
   "metadata": {
    "collapsed": false
   }
  },
  {
   "cell_type": "markdown",
   "source": [
    "Diffie-Hellman"
   ],
   "metadata": {
    "collapsed": false
   }
  },
  {
   "cell_type": "code",
   "execution_count": 2,
   "outputs": [],
   "source": [
    "def DH_public_key(g, a, p):\n",
    "    return (g ** a) % p"
   ],
   "metadata": {
    "collapsed": false
   }
  },
  {
   "cell_type": "code",
   "execution_count": 3,
   "outputs": [],
   "source": [
    "def DH_shared_secret(public_key, a, p):\n",
    "    return (public_key ** a) % p"
   ],
   "metadata": {
    "collapsed": false
   }
  },
  {
   "cell_type": "markdown",
   "source": [
    "Modulo arithmetics"
   ],
   "metadata": {
    "collapsed": false
   }
  },
  {
   "cell_type": "code",
   "execution_count": 4,
   "outputs": [],
   "source": [
    "def inverse(x, p):\n",
    "    return pow(x, -1, p)"
   ],
   "metadata": {
    "collapsed": false
   }
  },
  {
   "cell_type": "code",
   "execution_count": 5,
   "outputs": [],
   "source": [
    "# Chinese Remainder Theorem\n",
    "# x = r[i] % n[i]\n",
    "\n",
    "def CRT(rs, ns):\n",
    "\n",
    "    N = math.prod(ns)\n",
    "    x = 0\n",
    "\n",
    "    for i in range(len(ns)):\n",
    "        M = int(N / ns[i])\n",
    "        v = inverse(M, ns[i])\n",
    "        e = v * M\n",
    "        x += rs[i] * e\n",
    "\n",
    "    return x % N"
   ],
   "metadata": {
    "collapsed": false
   }
  },
  {
   "cell_type": "code",
   "execution_count": 6,
   "outputs": [],
   "source": [
    "def order(a, n):\n",
    "\n",
    "    if not math.gcd(a, n) == 1:\n",
    "        return None\n",
    "\n",
    "    else:\n",
    "        product = 1\n",
    "        k = 1\n",
    "\n",
    "        while k < n:\n",
    "            product = (product * a) % n\n",
    "            if product == 1:\n",
    "                return k\n",
    "            k += 1\n",
    "        return None"
   ],
   "metadata": {
    "collapsed": false
   }
  },
  {
   "cell_type": "markdown",
   "source": [
    "Circle\n",
    "$ x^{2} + y^{2} = 1 $"
   ],
   "metadata": {
    "collapsed": false
   }
  },
  {
   "cell_type": "code",
   "execution_count": 7,
   "outputs": [],
   "source": [
    "def circle_addition(a, b, p):\n",
    "    x = (a[0] * b[1] + a[1] * b[0]) % p\n",
    "    y = (a[1] * b[1] - a[0] * b[0]) % p\n",
    "    return x, y"
   ],
   "metadata": {
    "collapsed": false
   }
  },
  {
   "cell_type": "code",
   "execution_count": 8,
   "outputs": [],
   "source": [
    "def DLP_circle(P, P_A, p):\n",
    "    result = P\n",
    "    a = 1\n",
    "    stop = False\n",
    "    while not stop:\n",
    "        result = circle_addition(result, P, p)\n",
    "        if result == P_A:\n",
    "            stop = True\n",
    "        a += 1\n",
    "    return a"
   ],
   "metadata": {
    "collapsed": false
   }
  },
  {
   "cell_type": "markdown",
   "source": [
    "Twisted Edwards curves: $ ax^{2} + y^{2} = 1 + dx^{2}y^{2} $\n",
    "Montgomery curves: $ Bv^{2} = u^{3} + Au^{2} + u $"
   ],
   "metadata": {
    "collapsed": false
   }
  },
  {
   "cell_type": "code",
   "execution_count": 9,
   "outputs": [],
   "source": [
    "def twisted_to_montgomery(a, d, p, print_intermediate=False):\n",
    "\n",
    "    A = (2 * (a + d) * inverse(a - d, p)) % p\n",
    "    B = (4 * inverse(a - d, p)) % p\n",
    "\n",
    "    if print_intermediate:\n",
    "        print('A = ' + str(A))\n",
    "        print('B = ' + str(B))\n",
    "\n",
    "    return A, B"
   ],
   "metadata": {
    "collapsed": false
   }
  },
  {
   "cell_type": "code",
   "execution_count": 10,
   "outputs": [],
   "source": [
    "def twisted_to_montgomery_point(P, p, print_intermediate=False):\n",
    "\n",
    "    x, y = P[0], P[1]\n",
    "    u = ((1 + y) * inverse(1 - y, p)) % p\n",
    "    v = (u * inverse(x, p)) % p\n",
    "\n",
    "    if print_intermediate:\n",
    "        print('P_m = ' + str((u, v)))\n",
    "\n",
    "    return u, v"
   ],
   "metadata": {
    "collapsed": false
   }
  },
  {
   "cell_type": "code",
   "execution_count": 11,
   "outputs": [],
   "source": [
    "def montgomery_to_twisted(A, B, p, print_intermediate=False):\n",
    "\n",
    "    a = ((A + 2) * inverse(B, p)) % p\n",
    "    d = ((A - 2) * inverse(B, p)) % p\n",
    "\n",
    "    if print_intermediate:\n",
    "        print('a = ' + str(a))\n",
    "        print('d = ' + str(d))\n",
    "\n",
    "    return a, d"
   ],
   "metadata": {
    "collapsed": false
   }
  },
  {
   "cell_type": "code",
   "execution_count": 12,
   "outputs": [],
   "source": [
    "def montgomery_to_twisted_point(P, p, print_intermediate=False):\n",
    "\n",
    "    u, v = P[0], P[1]\n",
    "    x = (u * inverse(v, p)) % p\n",
    "    y = ((u - 1) * inverse(u + 1, p)) % p\n",
    "\n",
    "    if print_intermediate:\n",
    "        print('P_t = ' + str((x, y)))\n",
    "\n",
    "    return x, y"
   ],
   "metadata": {
    "collapsed": false
   }
  },
  {
   "cell_type": "code",
   "execution_count": 13,
   "outputs": [],
   "source": [
    "def twisted_addition(P, Q, a, d, p):\n",
    "\n",
    "    x_1, y_1 = P[0], P[1]\n",
    "    x_2, y_2 = Q[0], Q[1]\n",
    "\n",
    "    x = ((x_1 * y_2 + y_1 * x_2) * inverse(1 + d * x_1 * x_2 * y_1 * y_2, p)) % p\n",
    "    y = ((y_1 * y_2 - a * x_1 * x_2) * inverse(1 - d * x_1 * x_2 * y_1 * y_2, p)) % p\n",
    "\n",
    "    return x, y"
   ],
   "metadata": {
    "collapsed": false
   }
  },
  {
   "cell_type": "code",
   "execution_count": 14,
   "outputs": [],
   "source": [
    "def twisted_multiple_additions(P, k, a, d, p, print_intermediate=False):\n",
    "\n",
    "    Q = P\n",
    "    if print_intermediate:\n",
    "        print('1P = ' + str(Q))\n",
    "\n",
    "    for i in range(k - 1):\n",
    "        Q = twisted_addition(Q, P, a, d, p)\n",
    "\n",
    "        if print_intermediate:\n",
    "            print(str(i + 2) + 'P = ' + str(Q))\n",
    "\n",
    "    return Q"
   ],
   "metadata": {
    "collapsed": false
   }
  },
  {
   "cell_type": "code",
   "execution_count": 15,
   "outputs": [],
   "source": [
    "def is_on_twisted_curve(P, a, d, p, print_intermediate=False):\n",
    "\n",
    "    x, y = P[0], P[1]\n",
    "\n",
    "    left_side = (a * x ** 2 + y ** 2) % p\n",
    "    right_side = (1 + d * x ** 2 * y ** 2) % p\n",
    "\n",
    "    if print_intermediate:\n",
    "        print(left_side, right_side)\n",
    "\n",
    "    return left_side == right_side"
   ],
   "metadata": {
    "collapsed": false
   }
  },
  {
   "cell_type": "markdown",
   "source": [
    "Weierstrass curves\n",
    "General form: $ y^{2} + c_{1}xy + c_{3}y = x^{3} + c_{2}x^{2} + c_{4}x + c_{6} $\n",
    "Short form: $ y^{2} = x^{3} + c_{4}x + c_{6} $"
   ],
   "metadata": {
    "collapsed": false
   }
  },
  {
   "cell_type": "code",
   "execution_count": 16,
   "outputs": [],
   "source": [
    "def general_to_short(cs, p):\n",
    "\n",
    "    c_1, c_2, c_3, c_4, c_6 = cs[0], cs[1], cs[2], cs[3], cs[4]\n",
    "\n",
    "    short_c_4 = ((-1 * inverse(48, p) * c_1 ** 4) + (-1 * inverse(6, p) * c_2 * c_1 ** 2) + (inverse(2, p) * c_3 * c_1) + (-1 * inverse(3, p) * c_2 ** 2) + c_4) % p\n",
    "    short_c_6 = ((inverse(864, p) * c_1 ** 6) + (inverse(72, p) * c_2 * c_1 ** 4) + (-1 * inverse(24, p) * c_3 * c_1 ** 3) + (inverse(18, p) * c_2 ** 2 * c_1 ** 2) +\n",
    "                 (-1 * inverse(12, p) * c_4 * c_1 ** 2) + (-1 * inverse(6, p) * c_2 * c_3 * c_1) + (2 * inverse(27, p) * c_2 ** 3) + (inverse(4, p) * c_3 ** 2) +\n",
    "                 (-1 * inverse(3, p) * c_2 * c_4) + c_6) % p\n",
    "\n",
    "    return [0, 0, 0, short_c_4, short_c_6]"
   ],
   "metadata": {
    "collapsed": false
   }
  },
  {
   "cell_type": "code",
   "execution_count": 17,
   "outputs": [],
   "source": [
    "def general_to_short_point(P, cs, p):\n",
    "\n",
    "    if P is None:\n",
    "        return P\n",
    "\n",
    "    c_1, c_2, c_3, c_4, c_6 = cs[0], cs[1], cs[2], cs[3], cs[4]\n",
    "\n",
    "    y = (P[1] + inverse(2, p) * (c_1 * P[0] + c_3)) % p\n",
    "    x = (P[0] + inverse(3, p) * (c_2 + inverse(4, p) * c_1 ** 2)) % p\n",
    "\n",
    "    return x, y"
   ],
   "metadata": {
    "collapsed": false
   }
  },
  {
   "cell_type": "code",
   "execution_count": 18,
   "outputs": [],
   "source": [
    "def short_to_general_point(P, cs, p):\n",
    "\n",
    "    if P is None:\n",
    "        return P\n",
    "\n",
    "    c_1, c_2, c_3, c_4, c_6 = cs[0], cs[1], cs[2], cs[3], cs[4]\n",
    "\n",
    "    y = (P[1] - inverse(2, p) * (c_1 * P[0] + c_3)) % p\n",
    "    x = (P[0] - inverse(3, p) * (c_2 + inverse(4, p) * c_1 ** 2)) % p\n",
    "\n",
    "    return x, y"
   ],
   "metadata": {
    "collapsed": false
   }
  },
  {
   "cell_type": "code",
   "execution_count": 19,
   "outputs": [],
   "source": [
    "def is_on_weierstrass_curve(P, cs, p):\n",
    "    x = P[0]\n",
    "    y = P[1]\n",
    "    left_side = (y ** 2 + cs[0] * x * y + cs[2] * y) % p\n",
    "    right_side = (x ** 3 + cs[1] * x ** 2 + cs[3] * x + cs[4]) % p\n",
    "    return left_side == right_side"
   ],
   "metadata": {
    "collapsed": false
   }
  },
  {
   "cell_type": "code",
   "execution_count": 20,
   "outputs": [],
   "source": [
    "def weierstrass_number_of_points(c_4, c_6, p, print_points=False):\n",
    "\n",
    "    count = 1\n",
    "\n",
    "    for i in range(p):\n",
    "        y_squared = ((i ** 3) + c_4 * i + c_6) % p\n",
    "\n",
    "        for j in range(p):\n",
    "            if ((j ** 2) % p) == y_squared:\n",
    "                count += 1\n",
    "\n",
    "                if print_points:\n",
    "                    print('(' + str(i) + ', ' + str(j) + ')')\n",
    "    return count"
   ],
   "metadata": {
    "collapsed": false
   }
  },
  {
   "cell_type": "code",
   "execution_count": 21,
   "outputs": [],
   "source": [
    "def weierstrass_order(P, c_4, p):\n",
    "\n",
    "    sum = P\n",
    "    order = 1\n",
    "\n",
    "    while not sum is None:\n",
    "        sum = weierstrass_addition(sum, P, c_4, p)\n",
    "        order += 1\n",
    "\n",
    "    return order"
   ],
   "metadata": {
    "collapsed": false
   }
  },
  {
   "cell_type": "code",
   "execution_count": 22,
   "outputs": [],
   "source": [
    "def weierstrass_inverse(P, p):\n",
    "    if not P is None:\n",
    "        return P[0], (-1 * P[1]) % p\n",
    "    else:\n",
    "        return P"
   ],
   "metadata": {
    "collapsed": false
   }
  },
  {
   "cell_type": "code",
   "execution_count": 23,
   "outputs": [],
   "source": [
    "def weierstrass_double(P, c_4, p):\n",
    "\n",
    "    numerator = (3 * (P[0] ** 2) + c_4) % p\n",
    "    denominator = (2 * P[1]) % p\n",
    "\n",
    "    l = (numerator * inverse(denominator, p)) % p\n",
    "\n",
    "    x = (l ** 2 - 2 * P[0]) % p\n",
    "    y = (l * (P[0] - x) - P[1]) % p\n",
    "\n",
    "    return x, y"
   ],
   "metadata": {
    "collapsed": false
   }
  },
  {
   "cell_type": "code",
   "execution_count": 24,
   "outputs": [],
   "source": [
    "# P = (x_1, y_1) -> P[0] = x_1, P[1] = y_1\n",
    "# Q = (x_2, y_2) -> Q[0] = x_2, Q[1] = y_2\n",
    "\n",
    "def weierstrass_addition_distinct(P, Q, p):\n",
    "\n",
    "    numerator = (P[1] - Q[1]) % p\n",
    "    denominator = (P[0] - Q[0]) % p\n",
    "\n",
    "    l = (numerator * inverse(denominator, p)) % p\n",
    "\n",
    "    x = (l ** 2 - P[0] - Q[0]) % p\n",
    "    y = (l * (P[0] - x) - P[1]) % p\n",
    "\n",
    "    return x, y"
   ],
   "metadata": {
    "collapsed": false
   }
  },
  {
   "cell_type": "code",
   "execution_count": 25,
   "outputs": [],
   "source": [
    "# P = (x_1, y_1) -> P[0] = x_1, P[1] = y_1\n",
    "# Q = (x_2, y_2) -> Q[0] = x_2, Q[1] = y_2\n",
    "\n",
    "def weierstrass_addition(P, Q, c_4, p):\n",
    "\n",
    "    if P is None:\n",
    "        return Q\n",
    "    if Q is None:\n",
    "        return P\n",
    "    if P[0] == Q[0] and P[1] == ((-1 * Q[1]) % p):\n",
    "        return None\n",
    "    elif P[0] == Q[0] and P[1] == Q[1]:\n",
    "        return weierstrass_double(P, c_4, p)\n",
    "    else:\n",
    "        return weierstrass_addition_distinct(P, Q, p)"
   ],
   "metadata": {
    "collapsed": false
   }
  },
  {
   "cell_type": "code",
   "execution_count": 26,
   "outputs": [],
   "source": [
    "def weierstrass_multiple_additions(P, k, c_4, p):\n",
    "    Q = None\n",
    "    for i in range(k):\n",
    "        Q = weierstrass_addition(Q, P, c_4, p)\n",
    "    return Q"
   ],
   "metadata": {
    "collapsed": false
   }
  },
  {
   "cell_type": "markdown",
   "source": [
    "Weierstrass curves: solving the discrete logarithm problem using the baby-step giant-step algorithm"
   ],
   "metadata": {
    "collapsed": false
   }
  },
  {
   "cell_type": "code",
   "execution_count": 27,
   "outputs": [],
   "source": [
    "def BSGS_print(left_side, right_side, a_0, a_1, m, a, P, P_A, c_4, p):\n",
    "\n",
    "    for i in range(len(left_side)):\n",
    "        print(str(i) + 'P = ' + str(left_side[i]))\n",
    "    print('a_0 = ' + str(a_0))\n",
    "    print()\n",
    "\n",
    "    for i in range(len(right_side)):\n",
    "        print('P_A - ' + str(i) + 'mP = ' + str(right_side[i]))\n",
    "    print('a_1 = ' + str(a_1))\n",
    "    print()\n",
    "\n",
    "    print('m = ' + str(m))\n",
    "    print('a = ' + str(a))\n",
    "    Q = None\n",
    "    for i in range(a):\n",
    "        Q = weierstrass_addition(Q, P, c_4, p)\n",
    "        print(str(i + 1) + 'P = ' + str(Q))\n",
    "\n",
    "    print()\n",
    "    print('P_A = ' + str(P_A))"
   ],
   "metadata": {
    "collapsed": false
   }
  },
  {
   "cell_type": "code",
   "execution_count": 28,
   "outputs": [],
   "source": [
    "def DLP_BSGS(P, P_A, c_4, p, print_intermediate=False):\n",
    "\n",
    "    N = weierstrass_order(P, c_4, p)\n",
    "    m = math.floor(math.sqrt(N))\n",
    "\n",
    "    left_side = [None]\n",
    "    for i in range(m - 1):\n",
    "        left_side.append(weierstrass_addition(left_side[i], P, c_4, p))\n",
    "\n",
    "    right_side = [P_A]\n",
    "    mP = weierstrass_addition(left_side[-1], P, c_4, p)\n",
    "    n_mP = weierstrass_inverse(mP, p)\n",
    "\n",
    "    for i in range(math.floor(N / m) + 1):\n",
    "        right_side.append(weierstrass_addition(right_side[i], n_mP, c_4, p))\n",
    "\n",
    "        if right_side[-1] is None:\n",
    "            a_0 = 0\n",
    "            a_1 = len(right_side) - 1\n",
    "            a = (a_0 + m * a_1) % N\n",
    "\n",
    "            if print_intermediate:\n",
    "                BSGS_print(left_side, right_side, a_0, a_1, m, a, P, P_A, c_4, p)\n",
    "\n",
    "            return a\n",
    "\n",
    "        for j in range(1, len(left_side)):\n",
    "            a = right_side[-1]\n",
    "            b = left_side[j]\n",
    "\n",
    "            if a[0] == b[0] and a[1] == b[1]:\n",
    "                a_0 = j\n",
    "                a_1 = len(right_side) - 1\n",
    "                a = (a_0 + m * a_1) % N\n",
    "\n",
    "                if print_intermediate:\n",
    "                    BSGS_print(left_side, right_side, a_0, a_1, m, a, P, P_A, c_4, p)\n",
    "\n",
    "                return a"
   ],
   "metadata": {
    "collapsed": false
   }
  },
  {
   "cell_type": "code",
   "execution_count": 29,
   "outputs": [],
   "source": [
    "def BSGS_print_exam(left_side, right_side, a_0, a_1, m, a, P, P_A, cs, p):\n",
    "\n",
    "    c_4 = general_to_short(cs, p)[-2]\n",
    "\n",
    "    print('m = ' + str(m))\n",
    "    print()\n",
    "\n",
    "    for i in range(len(left_side)):\n",
    "        print(str(i) + 'R = ' + str(short_to_general_point(left_side[i], cs, p)))\n",
    "    print('a_0 = ' + str(a_0))\n",
    "    print()\n",
    "\n",
    "    for i in range(len(right_side)):\n",
    "        print('S - ' + str(i) + 'mR = ' + str(short_to_general_point(right_side[i], cs, p)))\n",
    "    print('a_1 = ' + str(a_1))\n",
    "    print()\n",
    "\n",
    "    print('a = ' + str(a))\n",
    "    Q = None\n",
    "    for i in range(a):\n",
    "        Q = weierstrass_addition(Q, P, c_4, p)\n",
    "        print(str(i + 1) + 'R = ' + str(short_to_general_point(Q, cs, p)))\n",
    "\n",
    "    print()\n",
    "    print('S = ' + str(short_to_general_point(P_A, cs, p)))"
   ],
   "metadata": {
    "collapsed": false
   }
  },
  {
   "cell_type": "code",
   "execution_count": 30,
   "outputs": [],
   "source": [
    "def DLP_BSGS_exam(P, P_A, cs, p, print_intermediate=False):\n",
    "\n",
    "    P = general_to_short_point(P, cs, p)\n",
    "    P_A = general_to_short_point(P_A, cs, p)\n",
    "    c_4 = general_to_short(cs, p)[-2]\n",
    "\n",
    "    N = weierstrass_order(P, c_4, p)\n",
    "    m = math.floor(math.sqrt(N))\n",
    "\n",
    "    left_side = [None]\n",
    "    for i in range(m - 1):\n",
    "        left_side.append(weierstrass_addition(left_side[i], P, c_4, p))\n",
    "\n",
    "    right_side = [P_A]\n",
    "    mP = weierstrass_addition(left_side[-1], P, c_4, p)\n",
    "    n_mP = weierstrass_inverse(mP, p)\n",
    "\n",
    "    for i in range(math.floor(N / m) + 1):\n",
    "        right_side.append(weierstrass_addition(right_side[i], n_mP, c_4, p))\n",
    "\n",
    "        if right_side[-1] is None:\n",
    "            a_0 = 0\n",
    "            a_1 = len(right_side) - 1\n",
    "            a = (a_0 + m * a_1) % N\n",
    "\n",
    "            if print_intermediate:\n",
    "                BSGS_print_exam(left_side, right_side, a_0, a_1, m, a, P, P_A, cs, p)\n",
    "\n",
    "            return a\n",
    "\n",
    "        for j in range(1, len(left_side)):\n",
    "            a = right_side[-1]\n",
    "            b = left_side[j]\n",
    "\n",
    "            if a[0] == b[0] and a[1] == b[1]:\n",
    "                a_0 = j\n",
    "                a_1 = len(right_side) - 1\n",
    "                a = (a_0 + m * a_1) % N\n",
    "\n",
    "                if print_intermediate:\n",
    "                    BSGS_print_exam(left_side, right_side, a_0, a_1, m, a, P, P_A, cs, p)\n",
    "\n",
    "                return a"
   ],
   "metadata": {
    "collapsed": false
   }
  },
  {
   "cell_type": "markdown",
   "source": [
    "Weierstrass curves: solving the discrete logarithm problem using Pollard's rho method"
   ],
   "metadata": {
    "collapsed": false
   }
  },
  {
   "cell_type": "code",
   "execution_count": 31,
   "outputs": [],
   "source": [
    "def compute_s(W, k, p):\n",
    "    return (W[0] % p) % k"
   ],
   "metadata": {
    "collapsed": false
   }
  },
  {
   "cell_type": "code",
   "execution_count": 32,
   "outputs": [],
   "source": [
    "def update_W(W, P, P_A, s, c_4, p):\n",
    "    if s == 0:\n",
    "        return weierstrass_addition(W, P, c_4, p)\n",
    "    elif s == 1:\n",
    "        return weierstrass_addition(W, P_A, c_4, p)\n",
    "    else:\n",
    "        return weierstrass_addition(W, W, c_4, p)"
   ],
   "metadata": {
    "collapsed": false
   }
  },
  {
   "cell_type": "code",
   "execution_count": 33,
   "outputs": [],
   "source": [
    "def update_b(b, s, p):\n",
    "    if s == 0:\n",
    "        return (b + 1) % p\n",
    "    elif s == 1:\n",
    "        return b % p\n",
    "    else:\n",
    "        return (2 * b) % p"
   ],
   "metadata": {
    "collapsed": false
   }
  },
  {
   "cell_type": "code",
   "execution_count": 34,
   "outputs": [],
   "source": [
    "def update_c(c, s, p):\n",
    "    if s == 0:\n",
    "        return c % p\n",
    "    elif s == 1:\n",
    "        return (c + 1) % p\n",
    "    else:\n",
    "        return (2 * c) % p"
   ],
   "metadata": {
    "collapsed": false
   }
  },
  {
   "cell_type": "code",
   "execution_count": 35,
   "outputs": [],
   "source": [
    "def step(W, b, c, P, P_A, k, c_4, p):\n",
    "    s = compute_s(W, k, p)\n",
    "    return update_W(W, P, P_A, s, c_4, p), update_b(b, s, p), update_c(c, s, p)"
   ],
   "metadata": {
    "collapsed": false
   }
  },
  {
   "cell_type": "code",
   "execution_count": 36,
   "outputs": [],
   "source": [
    "def DLP_Pollards_rho_print(Ss, S_bs, S_cs, Fs, F_bs, F_cs, a):\n",
    "\n",
    "    for i in range(len(Ss)):\n",
    "        print(\n",
    "            'S' + str(i) + ' = ' + str(Ss[i]) + '\\t\\t' + 'b' + str(\n",
    "            i) + ' = ' + str(S_bs[i]) + '\\t\\t' + 'c' + str(\n",
    "            i) + ' = ' + str(S_cs[i])\n",
    "        )\n",
    "\n",
    "    print()\n",
    "\n",
    "    for i in range(len(Fs)):\n",
    "        print(\n",
    "            'F' + str(i) + ' = ' + str(Fs[i]) + '\\t\\t' + 'b' + str(\n",
    "            i) + ' = ' + str(F_bs[i]) + '\\t\\t' + 'c' + str(\n",
    "            i) + ' = ' + str(F_cs[i])\n",
    "        )\n",
    "\n",
    "    print()\n",
    "    print('a = ' + str(a))"
   ],
   "metadata": {
    "collapsed": false
   }
  },
  {
   "cell_type": "code",
   "execution_count": 37,
   "outputs": [],
   "source": [
    "def DLP_Pollards_rho(P, P_A, S_0, F_0, b_0, c_0, k, c_4, p, print_intermediate=False):\n",
    "\n",
    "    Ss = [S_0]\n",
    "    S_bs = [b_0]\n",
    "    S_cs = [c_0]\n",
    "\n",
    "    Fs = [F_0]\n",
    "    F_bs = [b_0]\n",
    "    F_cs = [c_0]\n",
    "\n",
    "    while len(Ss) == 1 or not(\n",
    "        Ss[-1][0] == Fs[-1][0] and Ss[-1][1] == Fs[-1][1]):\n",
    "\n",
    "        next_S, next_S_b, next_S_c = step(\n",
    "            Ss[-1], S_bs[-1], S_cs[-1], P, P_A, k, c_4, p\n",
    "        )\n",
    "        Ss.append(next_S)\n",
    "        S_bs.append(next_S_b)\n",
    "        S_cs.append(next_S_c)\n",
    "\n",
    "        next_F, next_F_b, next_F_c = step(\n",
    "            Fs[-1], F_bs[-1], F_cs[-1], P, P_A, k, c_4, p\n",
    "        )\n",
    "        next_F, next_F_b, next_F_c = step(\n",
    "            next_F, next_F_b, next_F_c, P, P_A, k, c_4, p\n",
    "        )\n",
    "        Fs.append(next_F)\n",
    "        F_bs.append(next_F_b)\n",
    "        F_cs.append(next_F_c)\n",
    "\n",
    "    a = ((S_bs[-1] - F_bs[-1]) * inverse(S_cs[-1] - F_cs[-1], p)) % p\n",
    "\n",
    "    if print_intermediate:\n",
    "        DLP_Pollards_rho_print(Ss, S_bs, S_cs, Fs, F_bs, F_cs, a)\n",
    "\n",
    "    return a"
   ],
   "metadata": {
    "collapsed": false
   }
  },
  {
   "cell_type": "markdown",
   "source": [
    "Weierstrass curve: solving the discrete logarithm problem using the Pohlig-Hellman attack"
   ],
   "metadata": {
    "collapsed": false
   }
  },
  {
   "cell_type": "code",
   "execution_count": 38,
   "outputs": [],
   "source": [
    "def DLP_Pohlig_Hellman(P, Q, c_4, p, N, prime_factorization, print_intermediate=False):\n",
    "\n",
    "    A = []\n",
    "    a_is = []\n",
    "\n",
    "    for i in range(len(prime_factorization)):\n",
    "\n",
    "        prime_i = prime_factorization[i][0]\n",
    "        power_i = prime_factorization[i][1]\n",
    "\n",
    "        Q_i = Q\n",
    "        A.append([0])\n",
    "        N_i = int(N / prime_i)\n",
    "        R_i = weierstrass_multiple_additions(P, N_i, c_4, p)\n",
    "\n",
    "        if print_intermediate:\n",
    "            print('i = ' + str(i + 1))\n",
    "            print('Q_' + str(i + 1) + ' = ' + str(Q_i))\n",
    "            print('a_' + str(i + 1) + '_-1 = ' + str(A[i][0]))\n",
    "            print('N_' + str(i + 1) + ' = ' + str(N_i))\n",
    "            print('R_' + str(i + 1) + ' = ' + str(R_i))\n",
    "            print()\n",
    "\n",
    "        for j in range(power_i):\n",
    "\n",
    "            N_i = int(N / (prime_i ** (j + 1)))\n",
    "\n",
    "            ap = int(A[i][j] * (prime_i ** (j - 1)))\n",
    "            apP = weierstrass_multiple_additions(P, ap, c_4, p)\n",
    "            Q_i = weierstrass_addition(Q_i, weierstrass_inverse(apP, p), c_4, p)\n",
    "\n",
    "            S_i = weierstrass_multiple_additions(Q_i, N_i, c_4, p)\n",
    "\n",
    "            A[i].append(DLP_BSGS(R_i, S_i, c_4, p))\n",
    "\n",
    "            if print_intermediate:\n",
    "                print('\\tj = ' + str(j))\n",
    "                print('\\tN_' + str(i + 1) + ' = ' + str(N_i))\n",
    "                print('\\tQ_' + str(i + 1) + ' = ' + str(Q_i))\n",
    "                print('\\tS_' + str(i + 1) + ' = ' + str(S_i))\n",
    "                print('\\ta_' + str(i + 1) + '_' + str(j) + ' = ' + str(A[i][-1]))\n",
    "                print()\n",
    "\n",
    "        a_i = 0\n",
    "        for j in range(1, len(A[i])):\n",
    "            a_i += A[i][j] * (prime_i ** (j - 1))\n",
    "        a_is.append(a_i)\n",
    "\n",
    "    p_is = []\n",
    "    for i in range(len(prime_factorization)):\n",
    "        p_is.append(prime_factorization[i][0] ** prime_factorization[i][1])\n",
    "        a_is[i] = a_is[i] % p_is[-1]\n",
    "\n",
    "    if print_intermediate:\n",
    "        print('a_is = ' + str(a_is))\n",
    "        print('p_is = ' + str(p_is))\n",
    "\n",
    "    return CRT(a_is, p_is)"
   ],
   "metadata": {
    "collapsed": false
   }
  },
  {
   "cell_type": "code",
   "execution_count": 39,
   "outputs": [],
   "source": [
    "def DLP_Pohlig_Hellman_exam(P, Q, cs, p, N, prime_factorization, print_intermediate=False):\n",
    "\n",
    "    A = []\n",
    "    a_is = []\n",
    "\n",
    "    P = general_to_short_point(P, cs, p)\n",
    "    Q = general_to_short_point(Q, cs, p)\n",
    "    c_4 = general_to_short(cs, p)[-2]\n",
    "\n",
    "    for i in range(len(prime_factorization)):\n",
    "\n",
    "        prime_i = prime_factorization[i][0]\n",
    "        power_i = prime_factorization[i][1]\n",
    "\n",
    "        Q_i = Q\n",
    "        A.append([0])\n",
    "        N_i = int(N / prime_i)\n",
    "        R_i = weierstrass_multiple_additions(P, N_i, c_4, p)\n",
    "\n",
    "        if print_intermediate:\n",
    "            print('i = ' + str(i + 1))\n",
    "            print('p = ' + str(prime_i))\n",
    "            print('Q_' + str(prime_i) + '_-1 = ' + str(short_to_general_point(Q_i, cs, p)))\n",
    "            print('a_' + str(prime_i) + '_-1 = ' + str(A[i][0]))\n",
    "            print('n_' + str(prime_i) + ' = ' + str(N_i))\n",
    "            print('R_' + str(prime_i) + ' = ' + str(short_to_general_point(R_i, cs, p)))\n",
    "            print()\n",
    "\n",
    "        for j in range(power_i):\n",
    "\n",
    "            N_i = int(N / (prime_i ** (j + 1)))\n",
    "\n",
    "            ap = int(A[i][j] * (prime_i ** (j - 1)))\n",
    "            apP = weierstrass_multiple_additions(P, ap, c_4, p)\n",
    "            Q_i = weierstrass_addition(Q_i, weierstrass_inverse(apP, p), c_4, p)\n",
    "\n",
    "            S_i = weierstrass_multiple_additions(Q_i, N_i, c_4, p)\n",
    "\n",
    "            A[i].append(DLP_BSGS(R_i, S_i, c_4, p))\n",
    "\n",
    "            if print_intermediate:\n",
    "                print('\\tj = ' + str(j))\n",
    "                print('\\tn_' + str(prime_i) + '_' + str(j) + ' = ' + str(N_i))\n",
    "                print('\\tQ_' + str(prime_i) + '_' + str(j) + ' = ' + str(short_to_general_point(Q_i, cs, p)))\n",
    "                print('\\tS_' + str(prime_i) + '_' + str(j) + ' = ' + str(short_to_general_point(S_i, cs, p)))\n",
    "                print('\\ta_' + str(prime_i) + '_' + str(j) + ' = ' + str(A[i][-1]))\n",
    "                print()\n",
    "\n",
    "        a_i = 0\n",
    "        for j in range(1, len(A[i])):\n",
    "            a_i += A[i][j] * (prime_i ** (j - 1))\n",
    "        a_is.append(a_i)\n",
    "\n",
    "    p_is = []\n",
    "    for i in range(len(prime_factorization)):\n",
    "        p_is.append(prime_factorization[i][0] ** prime_factorization[i][1])\n",
    "        a_is[i] = a_is[i] % p_is[-1]\n",
    "\n",
    "    if print_intermediate:\n",
    "        print('a_is = ' + str(a_is))\n",
    "        print('p_is = ' + str(p_is))\n",
    "\n",
    "    return CRT(a_is, p_is)"
   ],
   "metadata": {
    "collapsed": false
   }
  },
  {
   "cell_type": "markdown",
   "source": [
    "RSA"
   ],
   "metadata": {
    "collapsed": false
   }
  },
  {
   "cell_type": "code",
   "execution_count": 40,
   "outputs": [],
   "source": [
    "def RSA_key_generation(p, q, e, print_intermediate=False):\n",
    "\n",
    "    n = p * q\n",
    "    phi_n = (p - 1) * (q - 1)\n",
    "    d = inverse(e, phi_n)\n",
    "\n",
    "    if print_intermediate:\n",
    "        print('p = ' + str(p))\n",
    "        print('q = ' + str(q))\n",
    "        print('e = ' + str(e))\n",
    "        print('n = ' + str(n))\n",
    "        print('phi_n = ' + str(phi_n))\n",
    "        print('d = ' + str(d))\n",
    "\n",
    "    return d"
   ],
   "metadata": {
    "collapsed": false
   }
  },
  {
   "cell_type": "code",
   "execution_count": 41,
   "outputs": [],
   "source": [
    "def RSA_encryption(m, e, n):\n",
    "    return (m ** e) % n"
   ],
   "metadata": {
    "collapsed": false
   }
  },
  {
   "cell_type": "code",
   "execution_count": 42,
   "outputs": [],
   "source": [
    "def RSA_decryption(c, d, n):\n",
    "    return (c ** d) % n"
   ],
   "metadata": {
    "collapsed": false
   }
  },
  {
   "cell_type": "markdown",
   "source": [
    "RSA-CRT"
   ],
   "metadata": {
    "collapsed": false
   }
  },
  {
   "cell_type": "code",
   "execution_count": 43,
   "outputs": [],
   "source": [
    "def RSA_CRT_key_generation(p, q, e, print_intermediate=False):\n",
    "\n",
    "    n = p * q\n",
    "    phi_n = (p - 1) * (q - 1)\n",
    "    d = inverse(e, phi_n)\n",
    "    d_p = d % (p - 1)\n",
    "    d_q = d % (q - 1)\n",
    "    u = inverse(p, q)\n",
    "\n",
    "    if print_intermediate:\n",
    "        print('p = ' + str(p))\n",
    "        print('q = ' + str(q))\n",
    "        print('e = ' + str(e))\n",
    "        print('n = ' + str(n))\n",
    "        print('phi_n = ' + str(phi_n))\n",
    "        print('d = ' + str(d))\n",
    "        print('d_p = ' + str(d_p))\n",
    "        print('d_q = ' + str(d_q))\n",
    "        print('u = ' + str(u))\n",
    "\n",
    "    return n, p, q, d_p, d_q, u"
   ],
   "metadata": {
    "collapsed": false
   }
  },
  {
   "cell_type": "code",
   "execution_count": 44,
   "outputs": [],
   "source": [
    "def RSA_CRT_encryption(m, e, n):\n",
    "    return RSA_encryption(m, e, n)"
   ],
   "metadata": {
    "collapsed": false
   }
  },
  {
   "cell_type": "code",
   "execution_count": 45,
   "outputs": [],
   "source": [
    "def RSA_CRT_decryption(c, p, q, d_p, d_q, u, print_intermediate=False):\n",
    "\n",
    "    c_p = c % p\n",
    "    c_q = c % q\n",
    "    m_p = (c_p ** d_p) % p\n",
    "    m_q = (c_q ** d_q) % q\n",
    "    m = (m_p + p * u * (m_q - m_p)) % (p * q)\n",
    "\n",
    "    if print_intermediate:\n",
    "        print('c_p = ' + str(c_p))\n",
    "        print('c_q = ' + str(c_q))\n",
    "        print('m_p = ' + str(m_p))\n",
    "        print('m_q = ' + str(m_q))\n",
    "        print('m = ' + str(m))\n",
    "\n",
    "    return m"
   ],
   "metadata": {
    "collapsed": false
   }
  },
  {
   "cell_type": "markdown",
   "source": [
    "Factorization using the p-1 method"
   ],
   "metadata": {
    "collapsed": false
   }
  },
  {
   "cell_type": "code",
   "execution_count": 46,
   "outputs": [],
   "source": [
    "def lcm(A):\n",
    "    lcm = 1\n",
    "    for x in A:\n",
    "        lcm = math.lcm(lcm, x)\n",
    "    return lcm"
   ],
   "metadata": {
    "collapsed": false
   }
  },
  {
   "cell_type": "code",
   "execution_count": 47,
   "outputs": [],
   "source": [
    "def p_1_method(n, a, s, print_intermediate=False):\n",
    "\n",
    "    s = lcm(s)\n",
    "    if print_intermediate:\n",
    "        print('s = ' + str(s))\n",
    "        print()\n",
    "\n",
    "    b = (a ** s) % n\n",
    "    d = math.gcd(b - 1, n)\n",
    "\n",
    "    if print_intermediate:\n",
    "        print('b = ' + str(b))\n",
    "        print('d = ' + str(d))\n",
    "        print()\n",
    "\n",
    "    if not d == 1 and not d == n:\n",
    "        return d, int(n / d)\n",
    "    else:\n",
    "        return None"
   ],
   "metadata": {
    "collapsed": false
   }
  },
  {
   "cell_type": "markdown",
   "source": [
    "Factorization using the Pollard's rho with Floyd's cycle-finding method"
   ],
   "metadata": {
    "collapsed": false
   }
  },
  {
   "cell_type": "code",
   "execution_count": 48,
   "outputs": [],
   "source": [
    "def g(x, c, n):\n",
    "    return (x ** 2 + c) % n"
   ],
   "metadata": {
    "collapsed": false
   }
  },
  {
   "cell_type": "code",
   "execution_count": 49,
   "outputs": [],
   "source": [
    "def factorize_Pollards_rho(x, c, n, print_intermediate=False):\n",
    "\n",
    "    slow_walk = x\n",
    "    fast_walk = x\n",
    "    d = 1\n",
    "\n",
    "    if print_intermediate:\n",
    "        print('Slow walk = ' + str(slow_walk) + ',\\t\\tFast walk = ' + str(fast_walk) + ',\\t\\td = ' + str(d))\n",
    "\n",
    "    while d == 1:\n",
    "        slow_walk = g(slow_walk, c, n)\n",
    "        fast_walk = g(g(fast_walk, c, n), c, n)\n",
    "        d = math.gcd(abs(slow_walk - fast_walk), n)\n",
    "\n",
    "        if print_intermediate:\n",
    "            print('Slow walk = ' + str(slow_walk) + ',\\t\\tFast walk = ' + str(fast_walk) + ',\\t\\td = ' + str(d))\n",
    "\n",
    "    if not d == n:\n",
    "        return d\n",
    "    else:\n",
    "        return None"
   ],
   "metadata": {
    "collapsed": false
   }
  },
  {
   "cell_type": "markdown",
   "source": [
    "The discrete logarithm problem for numbers"
   ],
   "metadata": {
    "collapsed": false
   }
  },
  {
   "cell_type": "code",
   "execution_count": 50,
   "outputs": [],
   "source": [
    "def BSGS_print_numbers(left_side, right_side, i, j, n, m, a):\n",
    "\n",
    "    print('n = ' + str(n))\n",
    "    print('m = ' + str(m))\n",
    "    print()\n",
    "\n",
    "    for k in range(len(left_side)):\n",
    "        print('g^' + str(k) + ' = ' + str(left_side[k]))\n",
    "    print('j = ' + str(j))\n",
    "    print()\n",
    "\n",
    "    print('c = g^(-m)')\n",
    "    for l in range(len(right_side)):\n",
    "        print('h * c^' + str(l) + ' = ' + str(right_side[l]))\n",
    "    print('i = ' + str(i))\n",
    "    print()\n",
    "\n",
    "    print('a = (j + i * m) % n = ' + str(a))"
   ],
   "metadata": {
    "collapsed": false
   }
  },
  {
   "cell_type": "code",
   "execution_count": 51,
   "outputs": [],
   "source": [
    "def DLP_BSGS_numbers(g, h, p, n, print_intermediate=False):\n",
    "\n",
    "    m = math.ceil(math.sqrt(n))\n",
    "\n",
    "    left_side = [1]\n",
    "    for i in range(m - 1):\n",
    "        left_side.append((left_side[i] * g) % p)\n",
    "\n",
    "    g_nm = inverse(g ** m, p)\n",
    "    right_side = [h]\n",
    "    for i in range(m - 1):\n",
    "        a = right_side[i]\n",
    "\n",
    "        for j in range(len(left_side)):\n",
    "            b = left_side[j]\n",
    "\n",
    "            if a == b:\n",
    "\n",
    "                logarithm = (j + i * m) % n\n",
    "\n",
    "                if print_intermediate:\n",
    "                    BSGS_print_numbers(left_side, right_side, i, j, n, m, logarithm)\n",
    "\n",
    "                return logarithm\n",
    "\n",
    "        right_side.append((right_side[i] * g_nm) % p)"
   ],
   "metadata": {
    "collapsed": false
   }
  },
  {
   "cell_type": "code",
   "execution_count": 53,
   "outputs": [],
   "source": [
    "def DLP_Pohlig_Hellman_numbers(g, h, p, n, prime_factorization, print_intermediate=False):\n",
    "\n",
    "    a_is = []\n",
    "    p_is = []\n",
    "\n",
    "    for i in range(len(prime_factorization)):\n",
    "\n",
    "        prime_i = prime_factorization[i][0]\n",
    "        power_i = prime_factorization[i][1]\n",
    "\n",
    "        n_i = int(n / (prime_i ** power_i))\n",
    "        g_i = pow(g, n_i, p)\n",
    "        h_i = pow(h, n_i, p)\n",
    "\n",
    "        a_is.append(DLP_BSGS_numbers(g_i, h_i, p, n_i))\n",
    "        p_is.append(prime_i ** power_i)\n",
    "\n",
    "    return CRT(a_is, p_is)"
   ],
   "metadata": {
    "collapsed": false
   }
  }
 ],
 "metadata": {
  "kernelspec": {
   "display_name": "Python 3",
   "language": "python",
   "name": "python3"
  },
  "language_info": {
   "codemirror_mode": {
    "name": "ipython",
    "version": 2
   },
   "file_extension": ".py",
   "mimetype": "text/x-python",
   "name": "python",
   "nbconvert_exporter": "python",
   "pygments_lexer": "ipython2",
   "version": "2.7.6"
  }
 },
 "nbformat": 4,
 "nbformat_minor": 0
}
