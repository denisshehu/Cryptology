{
 "cells": [
  {
   "cell_type": "code",
   "source": [
    "import import_ipynb\n",
    "import functions as f"
   ],
   "metadata": {
    "collapsed": false,
    "ExecuteTime": {
     "end_time": "2024-10-21T13:12:25.937106Z",
     "start_time": "2024-10-21T13:12:25.653051Z"
    }
   },
   "outputs": [],
   "execution_count": 1
  },
  {
   "cell_type": "code",
   "source": [
    "# y^2 = x^3 + x + 3 over F_43\n",
    "p = 43\n",
    "c_4 = 1"
   ],
   "metadata": {
    "collapsed": false,
    "ExecuteTime": {
     "end_time": "2024-10-21T13:12:25.949186Z",
     "start_time": "2024-10-21T13:12:25.942699Z"
    }
   },
   "outputs": [],
   "execution_count": 2
  },
  {
   "cell_type": "code",
   "source": [
    "P = (19, 42)\n",
    "P_A = (28, 15)"
   ],
   "metadata": {
    "collapsed": false,
    "ExecuteTime": {
     "end_time": "2024-10-21T13:12:26.115897Z",
     "start_time": "2024-10-21T13:12:26.113046Z"
    }
   },
   "outputs": [],
   "execution_count": 3
  },
  {
   "cell_type": "code",
   "source": [
    "f.DLP_BSGS(P, P_A, c_4, p, True)"
   ],
   "metadata": {
    "collapsed": false,
    "ExecuteTime": {
     "end_time": "2024-10-21T13:12:26.173236Z",
     "start_time": "2024-10-21T13:12:26.164392Z"
    }
   },
   "outputs": [
    {
     "name": "stdout",
     "output_type": "stream",
     "text": [
      "0P = None\n",
      "1P = (19, 42)\n",
      "2P = (36, 13)\n",
      "3P = (29, 13)\n",
      "4P = (9, 15)\n",
      "5P = (21, 30)\n",
      "a_0 = 3\n",
      "\n",
      "P_A - 0mP = (28, 15)\n",
      "P_A - 1mP = (29, 13)\n",
      "a_1 = 1\n",
      "\n",
      "m = 6\n",
      "a = 9\n",
      "1P = (19, 42)\n",
      "2P = (36, 13)\n",
      "3P = (29, 13)\n",
      "4P = (9, 15)\n",
      "5P = (21, 30)\n",
      "6P = (39, 35)\n",
      "7P = (2, 23)\n",
      "8P = (17, 26)\n",
      "9P = (28, 15)\n",
      "\n",
      "P_A = (28, 15)\n"
     ]
    },
    {
     "data": {
      "text/plain": [
       "9"
      ]
     },
     "execution_count": 4,
     "metadata": {},
     "output_type": "execute_result"
    }
   ],
   "execution_count": 4
  }
 ],
 "metadata": {
  "kernelspec": {
   "display_name": "Python 3",
   "language": "python",
   "name": "python3"
  },
  "language_info": {
   "codemirror_mode": {
    "name": "ipython",
    "version": 2
   },
   "file_extension": ".py",
   "mimetype": "text/x-python",
   "name": "python",
   "nbconvert_exporter": "python",
   "pygments_lexer": "ipython2",
   "version": "2.7.6"
  }
 },
 "nbformat": 4,
 "nbformat_minor": 0
}
